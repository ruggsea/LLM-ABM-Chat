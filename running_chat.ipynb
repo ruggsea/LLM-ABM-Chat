{
 "cells": [
  {
   "cell_type": "markdown",
   "metadata": {},
   "source": [
    "## Generating different kinds of chats"
   ]
  },
  {
   "cell_type": "code",
   "execution_count": 2,
   "metadata": {},
   "outputs": [
    {
     "name": "stdout",
     "output_type": "stream",
     "text": [
      "\u001b[93mBob\u001b[0m: How is it going?\n",
      "\u001b[92mAlice\u001b[0m:  Hi Bob! I'm doing well, how about you?\n",
      "\u001b[93mBob\u001b[0m:  I'm great too, thanks for asking! I was just thinking about\n",
      "    getting a new pet.\n",
      "\u001b[92mAlice\u001b[0m:  That's exciting! I love animals. My favorite is cats.\n",
      "\u001b[93mBob\u001b[0m:  Ah, I see. I'm more of a dog person myself.\n",
      "\u001b[92mAlice\u001b[0m:  That's nice! Dogs are great too. Do you have a favorite breed?\n",
      "\u001b[93mBob\u001b[0m:  I've always had a soft spot for Golden Retrievers. How about you?\n",
      "\u001b[92mAlice\u001b[0m:  I love Siamese cats, they're so elegant and intelligent.\n",
      "\u001b[93mBob\u001b[0m:  Sounds like we both have a thing for elegant and intelligent\n",
      "    pets!\n",
      "\u001b[92mAlice\u001b[0m:  Definitely! By the way, have you ever heard of the philosophy\n",
      "    of language?\n",
      "\u001b[93mBob\u001b[0m:  No, I can't say I have. What is it about?\n",
      "\u001b[92mAlice\u001b[0m:  It's a fascinating field that studies how words and language\n",
      "    relate to the world around us. I find it really interesting.\n",
      "\u001b[93mBob\u001b[0m:  That sounds intriguing. I'm actually a big fan of classical\n",
      "    opera, have you ever listened to it?\n",
      "\u001b[92mAlice\u001b[0m:  Not really, but I'm open to trying new things. Do you have a\n",
      "    favorite composer?\n",
      "\u001b[93mBob\u001b[0m:  Yes, I love Mozart's operas. Have you heard of The Marriage of\n",
      "    Figaro?\n",
      "\u001b[92mAlice\u001b[0m:  No, I haven't, but I'll add it to my list of things to check\n",
      "    out. Thanks for sharing!\n"
     ]
    }
   ],
   "source": [
    "from places_replication import NaiveConversationAgent, NaiveConversationGeneration\n",
    "from llm_engines import ChatgptLLM, LLMApi\n",
    "\n",
    "agents = [\n",
    "    NaiveConversationAgent(\"Alice\", persona=\"She likes cats and philosophy of language.\"),\n",
    "    NaiveConversationAgent(\"Bob\", persona=\"He likes dogs and classical opera.\")\n",
    "]\n",
    "\n",
    "generator = NaiveConversationGeneration(agents, neutral_llm=LLMApi())\n",
    "\n",
    "convo=generator.generate_conversation(min_turns=15)"
   ]
  },
  {
   "cell_type": "code",
   "execution_count": 1,
   "metadata": {},
   "outputs": [],
   "source": [
    "from chat_eval import load_chat_history, calc_perplexity, calc_distinct_n\n",
    "\n",
    "chat_history = load_chat_history(\"chat_history/naive_chat_history_chat_1719249634.json\")"
   ]
  },
  {
   "cell_type": "code",
   "execution_count": 2,
   "metadata": {},
   "outputs": [
    {
     "name": "stdout",
     "output_type": "stream",
     "text": [
      "Alice: How are you?\n",
      "Bob: I'm doing well, thanks for asking. How about you?\n",
      "Alice: I'm good too, just thinking about getting a cat soon. Do you like cats?\n",
      "Bob: I actually prefer dogs, they're more loyal in my opinion.\n",
      "Alice: That's fair, everyone has their own preference. Do you have a favorite type of dog?\n",
      "Bob: I love Golden Retrievers, they're such gentle and friendly dogs.\n",
      "Alice: Nice choice! On another note, I've been reading a lot about the philosophy of language lately.\n",
      "Bob: That sounds interesting, I'm more into classical opera myself. Do you have any favorite philosophers or theories?\n",
      "Alice: I really like Wittgenstein and his ideas on language games. It's fascinating to think about how we communicate.\n",
      "Bob: That does sound thought-provoking. Maybe we can have a discussion about it sometime.\n",
      "Alice: I'd love that! It would be great to hear your perspective as well.\n",
      "\n"
     ]
    }
   ],
   "source": [
    "print(chat_history)"
   ]
  },
  {
   "cell_type": "code",
   "execution_count": 3,
   "metadata": {},
   "outputs": [
    {
     "data": {
      "application/json": {
       "ascii": false,
       "bar_format": null,
       "colour": null,
       "elapsed": 0.006124019622802734,
       "initial": 0,
       "n": 0,
       "ncols": null,
       "nrows": null,
       "postfix": null,
       "prefix": "",
       "rate": null,
       "total": 1,
       "unit": "it",
       "unit_divisor": 1000,
       "unit_scale": false
      },
      "application/vnd.jupyter.widget-view+json": {
       "model_id": "2d790ac99f6a49a0a09f712e0710ac01",
       "version_major": 2,
       "version_minor": 0
      },
      "text/plain": [
       "  0%|          | 0/1 [00:00<?, ?it/s]"
      ]
     },
     "metadata": {},
     "output_type": "display_data"
    },
    {
     "data": {
      "text/plain": [
       "12.003479957580566"
      ]
     },
     "execution_count": 3,
     "metadata": {},
     "output_type": "execute_result"
    }
   ],
   "source": [
    "calc_perplexity(chat_history)"
   ]
  },
  {
   "cell_type": "code",
   "execution_count": 4,
   "metadata": {},
   "outputs": [
    {
     "data": {
      "text/plain": [
       "103.0"
      ]
     },
     "execution_count": 4,
     "metadata": {},
     "output_type": "execute_result"
    }
   ],
   "source": [
    "calc_distinct_n(chat_history, n=1)"
   ]
  },
  {
   "cell_type": "code",
   "execution_count": 5,
   "metadata": {},
   "outputs": [
    {
     "data": {
      "text/plain": [
       "882"
      ]
     },
     "execution_count": 5,
     "metadata": {},
     "output_type": "execute_result"
    }
   ],
   "source": [
    "# len of chat_history \n",
    "\n",
    "len(chat_history)"
   ]
  },
  {
   "cell_type": "code",
   "execution_count": 6,
   "metadata": {},
   "outputs": [
    {
     "data": {
      "text/plain": [
       "142.0"
      ]
     },
     "execution_count": 6,
     "metadata": {},
     "output_type": "execute_result"
    }
   ],
   "source": [
    "calc_distinct_n(chat_history, n=2)"
   ]
  },
  {
   "cell_type": "code",
   "execution_count": 7,
   "metadata": {},
   "outputs": [
    {
     "data": {
      "text/plain": [
       "146.0"
      ]
     },
     "execution_count": 7,
     "metadata": {},
     "output_type": "execute_result"
    }
   ],
   "source": [
    "calc_distinct_n(chat_history, n=3)"
   ]
  },
  {
   "cell_type": "code",
   "execution_count": 8,
   "metadata": {},
   "outputs": [
    {
     "data": {
      "text/plain": [
       "146.0"
      ]
     },
     "execution_count": 8,
     "metadata": {},
     "output_type": "execute_result"
    }
   ],
   "source": [
    "calc_distinct_n(chat_history, n=4)"
   ]
  },
  {
   "cell_type": "code",
   "execution_count": 9,
   "metadata": {},
   "outputs": [
    {
     "data": {
      "text/plain": [
       "140.0"
      ]
     },
     "execution_count": 9,
     "metadata": {},
     "output_type": "execute_result"
    }
   ],
   "source": [
    "calc_distinct_n(chat_history, n=10)"
   ]
  }
 ],
 "metadata": {
  "kernelspec": {
   "display_name": "base",
   "language": "python",
   "name": "python3"
  },
  "language_info": {
   "codemirror_mode": {
    "name": "ipython",
    "version": 3
   },
   "file_extension": ".py",
   "mimetype": "text/x-python",
   "name": "python",
   "nbconvert_exporter": "python",
   "pygments_lexer": "ipython3",
   "version": "3.11.5"
  }
 },
 "nbformat": 4,
 "nbformat_minor": 2
}
