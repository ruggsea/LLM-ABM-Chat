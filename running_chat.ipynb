{
 "cells": [
  {
   "cell_type": "markdown",
   "metadata": {},
   "source": [
    "## Generating different kinds of chats"
   ]
  },
  {
   "cell_type": "code",
   "execution_count": 1,
   "metadata": {},
   "outputs": [
    {
     "name": "stdout",
     "output_type": "stream",
     "text": [
      "\u001b[92mAlice\u001b[0m: How are you?\n",
      "\u001b[93mBob\u001b[0m:  I'm doing well, thanks for asking. How about you?\n",
      "\u001b[92mAlice\u001b[0m:  I'm good too, just thinking about getting a cat soon. Do you\n",
      "    like cats?\n",
      "\u001b[93mBob\u001b[0m:  I actually prefer dogs, they're more loyal in my opinion.\n",
      "\u001b[92mAlice\u001b[0m:  That's fair, everyone has their own preference. Do you have a\n",
      "    favorite type of dog?\n",
      "\u001b[93mBob\u001b[0m:  I love Golden Retrievers, they're such gentle and friendly dogs.\n",
      "\u001b[92mAlice\u001b[0m:  Nice choice! On another note, I've been reading a lot about the\n",
      "    philosophy of language lately.\n",
      "\u001b[93mBob\u001b[0m:  That sounds interesting, I'm more into classical opera myself. Do\n",
      "    you have any favorite philosophers or theories?\n",
      "\u001b[92mAlice\u001b[0m:  I really like Wittgenstein and his ideas on language games.\n",
      "    It's fascinating to think about how we communicate.\n",
      "\u001b[93mBob\u001b[0m:  That does sound thought-provoking. Maybe we can have a discussion\n",
      "    about it sometime.\n",
      "\u001b[92mAlice\u001b[0m:  I'd love that! It would be great to hear your perspective as\n",
      "    well.\n"
     ]
    }
   ],
   "source": [
    "from places_replication import NaiveConversationAgent, NaiveConversationGeneration\n",
    "from llm_engines import ChatgptLLM\n",
    "\n",
    "agents = [\n",
    "    NaiveConversationAgent(\"Alice\", persona=\"She likes cats and philosophy of language.\"),\n",
    "    NaiveConversationAgent(\"Bob\", persona=\"He likes dogs and classical opera.\")\n",
    "]\n",
    "\n",
    "generator = NaiveConversationGeneration(agents, neutral_llm=ChatgptLLM())\n",
    "\n",
    "convo=generator.generate_conversation(min_turns=10)"
   ]
  },
  {
   "cell_type": "code",
   "execution_count": 1,
   "metadata": {},
   "outputs": [],
   "source": [
    "from chat_eval import load_chat_history, calc_perplexity, calc_distinct_n\n",
    "\n",
    "chat_history = load_chat_history(\"chat_history/naive_chat_history_chat_1719249634.json\")"
   ]
  },
  {
   "cell_type": "code",
   "execution_count": 2,
   "metadata": {},
   "outputs": [
    {
     "name": "stdout",
     "output_type": "stream",
     "text": [
      "Alice: How are you?\n",
      "Bob: I'm doing well, thanks for asking. How about you?\n",
      "Alice: I'm good too, just thinking about getting a cat soon. Do you like cats?\n",
      "Bob: I actually prefer dogs, they're more loyal in my opinion.\n",
      "Alice: That's fair, everyone has their own preference. Do you have a favorite type of dog?\n",
      "Bob: I love Golden Retrievers, they're such gentle and friendly dogs.\n",
      "Alice: Nice choice! On another note, I've been reading a lot about the philosophy of language lately.\n",
      "Bob: That sounds interesting, I'm more into classical opera myself. Do you have any favorite philosophers or theories?\n",
      "Alice: I really like Wittgenstein and his ideas on language games. It's fascinating to think about how we communicate.\n",
      "Bob: That does sound thought-provoking. Maybe we can have a discussion about it sometime.\n",
      "Alice: I'd love that! It would be great to hear your perspective as well.\n",
      "\n"
     ]
    }
   ],
   "source": [
    "print(chat_history)"
   ]
  },
  {
   "cell_type": "code",
   "execution_count": 3,
   "metadata": {},
   "outputs": [
    {
     "data": {
      "application/json": {
       "ascii": false,
       "bar_format": null,
       "colour": null,
       "elapsed": 0.006124019622802734,
       "initial": 0,
       "n": 0,
       "ncols": null,
       "nrows": null,
       "postfix": null,
       "prefix": "",
       "rate": null,
       "total": 1,
       "unit": "it",
       "unit_divisor": 1000,
       "unit_scale": false
      },
      "application/vnd.jupyter.widget-view+json": {
       "model_id": "2d790ac99f6a49a0a09f712e0710ac01",
       "version_major": 2,
       "version_minor": 0
      },
      "text/plain": [
       "  0%|          | 0/1 [00:00<?, ?it/s]"
      ]
     },
     "metadata": {},
     "output_type": "display_data"
    },
    {
     "data": {
      "text/plain": [
       "12.003479957580566"
      ]
     },
     "execution_count": 3,
     "metadata": {},
     "output_type": "execute_result"
    }
   ],
   "source": [
    "calc_perplexity(chat_history)"
   ]
  },
  {
   "cell_type": "code",
   "execution_count": 4,
   "metadata": {},
   "outputs": [
    {
     "data": {
      "text/plain": [
       "103.0"
      ]
     },
     "execution_count": 4,
     "metadata": {},
     "output_type": "execute_result"
    }
   ],
   "source": [
    "calc_distinct_n(chat_history, n=1)"
   ]
  },
  {
   "cell_type": "code",
   "execution_count": 5,
   "metadata": {},
   "outputs": [
    {
     "data": {
      "text/plain": [
       "882"
      ]
     },
     "execution_count": 5,
     "metadata": {},
     "output_type": "execute_result"
    }
   ],
   "source": [
    "# len of chat_history \n",
    "\n",
    "len(chat_history)"
   ]
  },
  {
   "cell_type": "code",
   "execution_count": 6,
   "metadata": {},
   "outputs": [
    {
     "data": {
      "text/plain": [
       "142.0"
      ]
     },
     "execution_count": 6,
     "metadata": {},
     "output_type": "execute_result"
    }
   ],
   "source": [
    "calc_distinct_n(chat_history, n=2)"
   ]
  },
  {
   "cell_type": "code",
   "execution_count": 7,
   "metadata": {},
   "outputs": [
    {
     "data": {
      "text/plain": [
       "146.0"
      ]
     },
     "execution_count": 7,
     "metadata": {},
     "output_type": "execute_result"
    }
   ],
   "source": [
    "calc_distinct_n(chat_history, n=3)"
   ]
  },
  {
   "cell_type": "code",
   "execution_count": 8,
   "metadata": {},
   "outputs": [
    {
     "data": {
      "text/plain": [
       "146.0"
      ]
     },
     "execution_count": 8,
     "metadata": {},
     "output_type": "execute_result"
    }
   ],
   "source": [
    "calc_distinct_n(chat_history, n=4)"
   ]
  },
  {
   "cell_type": "code",
   "execution_count": 9,
   "metadata": {},
   "outputs": [
    {
     "data": {
      "text/plain": [
       "140.0"
      ]
     },
     "execution_count": 9,
     "metadata": {},
     "output_type": "execute_result"
    }
   ],
   "source": [
    "calc_distinct_n(chat_history, n=10)"
   ]
  }
 ],
 "metadata": {
  "kernelspec": {
   "display_name": "base",
   "language": "python",
   "name": "python3"
  },
  "language_info": {
   "codemirror_mode": {
    "name": "ipython",
    "version": 3
   },
   "file_extension": ".py",
   "mimetype": "text/x-python",
   "name": "python",
   "nbconvert_exporter": "python",
   "pygments_lexer": "ipython3",
   "version": "3.11.5"
  }
 },
 "nbformat": 4,
 "nbformat_minor": 2
}
