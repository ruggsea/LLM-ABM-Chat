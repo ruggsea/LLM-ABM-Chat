{
 "cells": [
  {
   "cell_type": "markdown",
   "metadata": {},
   "source": [
    "Interactively testing out the chat implementation."
   ]
  },
  {
   "cell_type": "code",
   "execution_count": 46,
   "metadata": {},
   "outputs": [],
   "source": [
    "from chat_llm import ChatThread, Agent\n",
    "from llm_engines import LLMApi\n",
    "\n",
    "import logging\n",
    "\n",
    "\n",
    "\n",
    "# defining two agents\n",
    "John = Agent(name=\"John\", llm=LLMApi(), interests=[\"dogs\", \"football\"], behavior=\"formal\")\n",
    "Mary = Agent(name=\"Mary\", llm=LLMApi(), interests=[\"cats\", \"soviet movies\"], behavior=\"funny\")\n",
    "\n",
    "chat_test=ChatThread(agent_list=[John, Mary], neutral_llm=LLMApi())"
   ]
  },
  {
   "cell_type": "code",
   "execution_count": 47,
   "metadata": {},
   "outputs": [
    {
     "name": "stdout",
     "output_type": "stream",
     "text": [
      "\u001b[91mJohn\u001b[0m: Hi!\n",
      "\u001b[91mJohn\u001b[0m: Hey there. How's it going? I just saw an amazing dog video today.\n",
      "    You guys seen any good dogs lately?  OR  What's up, folks? I was just\n",
      "    watching a football match and it got me thinking— anyone catch the last\n",
      "    game? It was insane!\n",
      "\u001b[91mMary\u001b[0m: Hey, all. Everything's going fine here. I saw a cute cat video\n",
      "    yesterday, so that's been making me happy. What have you all been up to?  OR\n",
      "    Hi John! I didn't catch the last game, but I've been getting into some old\n",
      "    Soviet movies lately. You should all check out \"Ballad of a Soldier\" if you\n",
      "    get a chance. It's great!\n"
     ]
    }
   ],
   "source": [
    "chat_test.run_chat()"
   ]
  }
 ],
 "metadata": {
  "kernelspec": {
   "display_name": "base",
   "language": "python",
   "name": "python3"
  },
  "language_info": {
   "codemirror_mode": {
    "name": "ipython",
    "version": 3
   },
   "file_extension": ".py",
   "mimetype": "text/x-python",
   "name": "python",
   "nbconvert_exporter": "python",
   "pygments_lexer": "ipython3",
   "version": "3.11.5"
  }
 },
 "nbformat": 4,
 "nbformat_minor": 2
}
