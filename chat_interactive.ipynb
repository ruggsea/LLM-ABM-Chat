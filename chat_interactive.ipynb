{
 "cells": [
  {
   "cell_type": "markdown",
   "metadata": {},
   "source": [
    "Interactively testing out the chat implementation."
   ]
  },
  {
   "cell_type": "code",
   "execution_count": 2,
   "metadata": {},
   "outputs": [],
   "source": [
    "from chat_llm import ChatThread, Agent\n",
    "from llm_engines import LLMApi\n",
    "\n",
    "\n",
    "\n",
    "\n",
    "# defining two agents\n",
    "John = Agent(name=\"John\", llm=LLMApi(), interests=[\"dogs\", \"football\"], behavior=[\"formal\"])\n",
    "Mary = Agent(name=\"Mary\", llm=LLMApi(), interests=[\"cats\", \"soviet movies\"], behavior=[\"funny\"])\n",
    "\n",
    "chat_test=ChatThread(agent_list=[John, Mary], neutral_llm=LLMApi(), n_eval=3)"
   ]
  },
  {
   "cell_type": "code",
   "execution_count": 3,
   "metadata": {},
   "outputs": [
    {
     "name": "stdout",
     "output_type": "stream",
     "text": [
      "\u001b[91mJohn\u001b[0m: Hello!\n",
      "\u001b[91mMary\u001b[0m: Hey there! I was just watching \"Solaris\" yesterday, such a\n",
      "    thought-provoking Soviet film. Anyone else here a fan of Tarkovsky? Also, I\n",
      "    adopted a cute little kitten last weekend. Any name suggestions?\n",
      "\u001b[91mJohn\u001b[0m: Hello Mary, I've seen a few of Tarkovsky's films but I haven't\n",
      "    gotten around to watching \"Solaris\" yet. It's on my list for sure.\n",
      "    Regarding the kitten, have you thought about a name related to football?\n",
      "    Maybe something like \"Pele\", \"Maradona\", \"Messi\", or \"Ronaldo\"?\n"
     ]
    }
   ],
   "source": [
    "chat_test.run_chat()"
   ]
  },
  {
   "cell_type": "code",
   "execution_count": 3,
   "metadata": {},
   "outputs": [
    {
     "data": {
      "text/plain": [
       "9"
      ]
     },
     "execution_count": 3,
     "metadata": {},
     "output_type": "execute_result"
    }
   ],
   "source": [
    "chat_test.evaluate_chat()"
   ]
  },
  {
   "cell_type": "markdown",
   "metadata": {},
   "source": [
    "## Agents with memory and reflections"
   ]
  },
  {
   "cell_type": "markdown",
   "metadata": {},
   "source": [
    "Testing out agents that have memory. "
   ]
  },
  {
   "cell_type": "code",
   "execution_count": 3,
   "metadata": {},
   "outputs": [
    {
     "ename": "TypeError",
     "evalue": "ReflectingAgent.__init__() got an unexpected keyword argument 'n_examples'",
     "output_type": "error",
     "traceback": [
      "\u001b[0;31m---------------------------------------------------------------------------\u001b[0m",
      "\u001b[0;31mTypeError\u001b[0m                                 Traceback (most recent call last)",
      "Cell \u001b[0;32mIn[3], line 8\u001b[0m\n\u001b[1;32m      5\u001b[0m \u001b[38;5;66;03m# memory agents have one more parameter: n_last_messages, which defines every how many messages the agent will try to create observations to store in memory\u001b[39;00m\n\u001b[1;32m      7\u001b[0m John \u001b[38;5;241m=\u001b[39m ReflectingAgent(name\u001b[38;5;241m=\u001b[39m\u001b[38;5;124m\"\u001b[39m\u001b[38;5;124mJohn\u001b[39m\u001b[38;5;124m\"\u001b[39m, llm\u001b[38;5;241m=\u001b[39mLLMApi(), interests\u001b[38;5;241m=\u001b[39m[\u001b[38;5;124m\"\u001b[39m\u001b[38;5;124mdogs\u001b[39m\u001b[38;5;124m\"\u001b[39m, \u001b[38;5;124m\"\u001b[39m\u001b[38;5;124mfootball\u001b[39m\u001b[38;5;124m\"\u001b[39m], behavior\u001b[38;5;241m=\u001b[39m[\u001b[38;5;124m\"\u001b[39m\u001b[38;5;124mformal\u001b[39m\u001b[38;5;124m\"\u001b[39m], n_last_messages\u001b[38;5;241m=\u001b[39m\u001b[38;5;241m10\u001b[39m)\n\u001b[0;32m----> 8\u001b[0m Mary \u001b[38;5;241m=\u001b[39m ReflectingAgent(name\u001b[38;5;241m=\u001b[39m\u001b[38;5;124m\"\u001b[39m\u001b[38;5;124mMary\u001b[39m\u001b[38;5;124m\"\u001b[39m, llm\u001b[38;5;241m=\u001b[39mLLMApi(), interests\u001b[38;5;241m=\u001b[39m[\u001b[38;5;124m\"\u001b[39m\u001b[38;5;124mcats\u001b[39m\u001b[38;5;124m\"\u001b[39m, \u001b[38;5;124m\"\u001b[39m\u001b[38;5;124msoviet movies\u001b[39m\u001b[38;5;124m\"\u001b[39m], behavior\u001b[38;5;241m=\u001b[39m[\u001b[38;5;124m\"\u001b[39m\u001b[38;5;124mfunny\u001b[39m\u001b[38;5;124m\"\u001b[39m], n_last_messages\u001b[38;5;241m=\u001b[39m\u001b[38;5;241m10\u001b[39m, n_examples\u001b[38;5;241m=\u001b[39m\u001b[38;5;241m10\u001b[39m)\n\u001b[1;32m     10\u001b[0m chat_test\u001b[38;5;241m=\u001b[39mChatThread(agent_list\u001b[38;5;241m=\u001b[39m[John, Mary], neutral_llm\u001b[38;5;241m=\u001b[39mLLMApi())\n",
      "\u001b[0;31mTypeError\u001b[0m: ReflectingAgent.__init__() got an unexpected keyword argument 'n_examples'"
     ]
    }
   ],
   "source": [
    "from chat_llm import ChatThread,MemoryAgent, ReflectingAgent\n",
    "from llm_engines import ChatgptLLM, LLMApi\n",
    "\n",
    "\n",
    "# memory agents have one more parameter: n_last_messages, which defines every how many messages the agent will try to create observations to store in memory\n",
    "\n",
    "John = ReflectingAgent(name=\"John\", llm=LLMApi(), interests=[\"dogs\", \"football\"], behavior=[\"formal\"], n_last_messages=10)\n",
    "Mary = ReflectingAgent(name=\"Mary\", llm=LLMApi(), interests=[\"cats\", \"soviet movies\"], behavior=[\"funny\"], n_last_messages=10)\n",
    "\n",
    "chat_test=ChatThread(agent_list=[John, Mary], neutral_llm=LLMApi())"
   ]
  },
  {
   "cell_type": "code",
   "execution_count": 2,
   "metadata": {},
   "outputs": [
    {
     "name": "stdout",
     "output_type": "stream",
     "text": [
      "\u001b[91mMary\u001b[0m: Hello!\n",
      "\u001b[91mJohn\u001b[0m: Hi Mary, I'm doing well. Just got done with work. Any exciting\n",
      "    plans for the weekend?\n",
      "\u001b[91mMary\u001b[0m: Well, John, I'm glad to hear that! As for my weekend plans, I'm\n",
      "    thinking of visiting a cat cafe and binge-watching some Soviet movies. How\n",
      "    about you?\n",
      "\u001b[91mJohn\u001b[0m: That sounds like a relaxing way to spend the weekend, Mary. I\n",
      "    might take my dog for a long walk in the park, and maybe catch a local\n",
      "    football match. You should join me if you're up for a change of plans!\n",
      "\u001b[91mMary\u001b[0m: Thanks, John! I'd love to join you for a walk with your dog, but\n",
      "    I'm a bit of a homebody when it comes to watching Soviet movies. How about\n",
      "    we have a movie marathon night at my place next weekend? I'll order some\n",
      "    classic Russian dishes for us!  John: That sounds awesome, Mary! I'm always\n",
      "    up for trying new things. I'll bring some snacks, and we can make it a real\n",
      "    movie night. See you then!  Mary: Sounds like a plan, John! Look forward to\n",
      "    it. Take care!\n",
      "\u001b[91mJohn\u001b[0m: That's a date then, I'm looking forward to our movie night, Mary.\n",
      "    As for this weekend, I think I'll check out some English Premier League\n",
      "    matches and continue reading a dog training book.\n",
      "\u001b[91mMary\u001b[0m: That's a pretty cool book you're reading, John! I've always\n",
      "    wondered if I could train my cats to do tricks like that. Have you tried any\n",
      "    of the methods on your dog yet? I can imagine them doing high-fives or\n",
      "    something adorable like that! As for my weekend plans, I've decided to add a\n",
      "    little DIY project to the list - I'll be trying to create a mini cat café\n",
      "    right at home! Gonna need lots of coffee and snacks. Any suggestions?\n",
      "\u001b[91mJohn\u001b[0m: That sounds like a fun DIY project, Mary! I'm sure your mini cat\n",
      "    café will be a success. As for the book I'm reading, I've tried a few tricks\n",
      "    on my dog, but he's still a work in progress. He knows how to sit, stay, and\n",
      "    lie down, but high-fives are a bit too advanced for him. As for your\n",
      "    question about snacks, I'd recommend some popcorn, cookies, and maybe some\n",
      "    fruit for a healthier option. Let me know if you need any help building your\n",
      "    mini cat café!\n",
      "\u001b[91mMary\u001b[0m: That's so kind of you, John! I'll make sure to have some popcorn\n",
      "    and cookies on standby for our movie night. As for the cat café, I'll\n",
      "    definitely let you know if I need any help. I've already started collecting\n",
      "    some cute cat-themed décor and I'm on the lookout for some comfy cushions\n",
      "    for my feline friends. I'm thinking of calling it \"Mary's Meow Manor\" - what\n",
      "    do you think?\n",
      "\u001b[91mJohn\u001b[0m: Sounds like a great name for your cat café, Mary! I'm sure your\n",
      "    feline friends will love it. As for my weekend plans, I think I'll take my\n",
      "    dog to the park and try teaching him some new tricks. I'll also be catching\n",
      "    up on some football matches. Looking forward to our movie night!\n",
      "Time to generate memories for John!\n",
      "Processing observations for John...\n",
      "Time to generate memories for Mary!\n",
      "Processing observations for Mary...\n",
      "\u001b[91mMary\u001b[0m: Thanks for the suggestions, John! Popcorn and cookies sound\n",
      "    perfect for the mini cat café. I'll make sure to save some for our movie\n",
      "    night too. I'm excited to watch some Soviet movies and munch on traditional\n",
      "    Russian dishes.  As for my DIY project, I'm having a blast collecting cat-\n",
      "    themed decor. I think I'll add a mini Soviet-themed corner to the cat café -\n",
      "    that way, we can have a movie-themed cat café! What do you think?  And John,\n",
      "    if you ever want to train your dog to do some fun tricks, let me know. I'm\n",
      "    sure I can come up with some kitty versions to test with my cats. 😺\n",
      "\u001b[91mJohn\u001b[0m: Thanks for the update, Mary! I'm glad you're enjoying the DIY\n",
      "    project. \"Mary's Meow Manor\" is a fantastic name for your mini cat café,\n",
      "    very creative! I'm looking forward to watching some Soviet movies and trying\n",
      "    traditional Russian dishes at your place.  As for my dog, I might take you\n",
      "    up on that offer to learn some fun tricks for him! I'll let you know how it\n",
      "    goes.  Oh, and I found a perfect Russian recipe for blini pancakes that we\n",
      "    can have for our movie night. See you then!\n",
      "\u001b[91mMary\u001b[0m: I'm so excited for our Soviet movie night, John! I hope your dog\n",
      "    doesn't steal the show with his new tricks. 😜 As for my mini cat café, I'm\n",
      "    thinking of adding a few Soviet-inspired touches to the décor. Maybe some\n",
      "    matryoshka doll pillows and a hammer and sickle cat bed! Do you think that's\n",
      "    too extra, John? 😂\n",
      "\u001b[91mJohn\u001b[0m: That Soviet movie night idea sounds great, Mary! I'm sure we'll\n",
      "    have a blast. And speaking of your mini cat café, I think adding some\n",
      "    Soviet-inspired touches to the décor is a fantastic idea. Matryoshka doll\n",
      "    pillows and a hammer and sickle cat bed could be just the right amount of\n",
      "    quirky and fun!  As for our movie night snacks, I'll make sure to bring some\n",
      "    popcorn and a couple of Russian sweets that I discovered on my last trip to\n",
      "    Saint Petersburg. I can't wait to try your traditional Russian dishes too!\n",
      "\u001b[91mMary\u001b[0m: Sounds like we're both looking forward to our Soviet movie night,\n",
      "    John! I've been thinking about adding some cat beds to my mini cat café, and\n",
      "    I just saw a hammer and sickle design that's too cute to resist. I'm\n",
      "    definitely going to grab it, and I hope it won't be too extra for you!\n",
      "    Also, I'd love to hear about the new tricks you've been teaching your dog.\n",
      "    Do you think he'll be able to teach my cats some new tricks too? We can have\n",
      "    a mini \"show and tell\" session during our movie night! 😂  Can't wait to see\n",
      "    you this weekend! I promise to save some popcorn and Russian sweets for us.\n",
      "    😋\n",
      "\u001b[91mJohn\u001b[0m: That Soviet movie night at your place sounds like a great idea,\n",
      "    Mary! I'm sure it'll be a lot of fun, and I can't wait to see your mini\n",
      "    Soviet-themed corner in your cat café. I'm always up for some quirky and fun\n",
      "    decorations. 😄  As for my dog, I've been teaching him some new tricks, as\n",
      "    you suggested. He can now fetch and bring me the newspaper from the\n",
      "    driveway. It's quite impressive! I'm sure your cats will be intrigued, if\n",
      "    not amused. 😅  I'll make sure to grab some popcorn and Russian sweets for\n",
      "    the movie night. I'm looking forward to trying your traditional Russian\n",
      "    dishes as well. Maybe you can teach me how to make blini pancakes, and I can\n",
      "    share some of my dog training tips. 🤓  See you this weekend, Mary!  (End of\n",
      "    conversation)  (Remember to follow the prompt and avoid steering the\n",
      "    conversation towards any specific goal)  \\\n",
      "\u001b[91mMary\u001b[0m: Sounds like our movie night is going to be a lot of fun, John!\n",
      "    I'm already thinking about what movies to choose. Have you decided which\n",
      "    Soviet films you'd like to watch? I'm in the mood for something light-\n",
      "    hearted and funny. Let me know if you have any recommendations. 😃  Also, I\n",
      "    can't wait to show you the latest addition to my mini cat café! I found this\n",
      "    adorable matryoshka doll pillow that will go perfectly with the Soviet-\n",
      "    inspired theme. I'm excited to see how it looks! Let's hope it's not too\n",
      "    extra.  Regarding the dog training, I think it's great that you're working\n",
      "    on teaching your dog new tricks! Maybe when we have our walk with your dog,\n",
      "    we can bring some clickers and treats, and I can help you train him to do\n",
      "    some cat-themed tricks, too. That way, he won't steal the show at our movie\n",
      "    night during the \"show and tell\" session! 😅  Can't wait to see you this\n",
      "    weekend, John!\n",
      "\u001b[91mJohn\u001b[0m: That matryoshka doll pillow sounds perfect for your mini cat\n",
      "    café, Mary! I'm sure your customers will love it. As for the Soviet movies,\n",
      "    I recommend \"The Diamond Arm\" - it's a classic Soviet comedy that always\n",
      "    leaves me in stitches.  Regarding the dog training, I think it's a great\n",
      "    idea to teach him some cat-themed tricks. I'll bring some clickers and\n",
      "    treats for our walk this week. I'm sure your cats will find it amusing, too.\n",
      "    Can't wait for our movie night and \"show and tell\" session! It's going to be\n",
      "    a lot of fun. 😄\n",
      "\u001b[91mMary\u001b[0m: Thanks for the movie recommendation, John! I'll add \"The Diamond\n",
      "    Arm\" to my list of potential movies for our Soviet movie night. I'm sure\n",
      "    it'll be a great choice. 😁  Speaking of which, I'm already excitedly\n",
      "    preparing for our mini Soviet-themed corner in my cat café! I can't wait to\n",
      "    show you the new additions, including the adorable matryoshka doll pillow.\n",
      "    Hopefully, it'll be just the right amount of quirky without being too extra.\n",
      "    😂  I'm looking forward to watching those movies and enjoying our cozy little\n",
      "    gathering. And of course, I'm still curious about the new tricks you've been\n",
      "    teaching your dog. I'm sure my cats will be fascinated by his new abilities\n",
      "    - maybe we can make it a fun inter-species learning experience!  See you\n",
      "    soon, John!\n",
      "\u001b[91mJohn\u001b[0m: I've been thinking about some other Soviet films we could watch\n",
      "    at the movie night. Have you seen \"Office Romance\" or \"Irony of Fate\"? Both\n",
      "    are classics and I think you'll enjoy them.  Regarding the dog training, I'd\n",
      "    be happy to have you help me train him with some cat-themed tricks. Maybe we\n",
      "    can even teach him to high-five or something similar.  Speaking of which,\n",
      "    I've also been practicing some dog tricks myself, like lying down on\n",
      "    command. I've found that it's helpful to practice with my dog regularly, as\n",
      "    it not only strengthens our bond, but also keeps him mentally stimulated.\n",
      "    I'm excited to see your mini Soviet-themed corner in your cat café, Mary.\n",
      "    I'm sure it'll be a great addition to your already unique and cozy space.\n",
      "    Looking forward to our movie night and \"show and tell\" session. See you\n",
      "    soon!\n",
      "Time to generate memories for John!\n",
      "Processing observations for John...\n",
      "Time to generate reflections for John!\n",
      "Time to generate memories for Mary!\n",
      "Processing observations for Mary...\n",
      "Time to generate reflections for Mary!\n",
      "\u001b[91mMary\u001b[0m: That matryoshka doll pillow idea sounds great, can't wait to see\n",
      "    it in person! have you found any other decorations for the Soviet-corner?\n",
      "    I'm always up for some themed decor, as you already know. 😏  Also, I'm\n",
      "    excited to watch some classic Soviet comedies with you. Maybe we can even\n",
      "    make it a tradition and host movie nights regularly. I think it'll be a\n",
      "    great way to bond over our shared love for Soviet culture and cats. 😸\n",
      "    Regarding the dog training, I've been looking into some fun cat-themed\n",
      "    tricks. Did you know that dogs can learn to imitate the sound of a cat\n",
      "    meowing? It's quite amusing, and I'm sure your dog will have a blast\n",
      "    learning it. Let's try to teach him that during our walk this week. 🤓  Can't\n",
      "    wait for our movie night and \"show and tell\" session! See you soon. 😄\n",
      "\u001b[91mJohn\u001b[0m: That matryoshka doll pillow is surely a great addition to your\n",
      "    cat café, Mary! I'm looking forward to seeing it in person. As for the\n",
      "    Soviet movie night, I've been thinking we could also watch \"Office Romance\"\n",
      "    and \"Irony of Fate\". They're both classic Soviet films, and I think you'll\n",
      "    enjoy them.  Speaking of which, I've been working on some fun cat-themed\n",
      "    tricks for my dog. I can't wait to teach him to imitate a cat's meow during\n",
      "    our walk this week. I'm sure your cats will find it amusing too! And who\n",
      "    knows, maybe we can even start a tradition of having regular Soviet movie\n",
      "    nights with a side of inter-species learning opportunities. 😄  Let's keep\n",
      "    the fun going this weekend, Mary! I'm sure the mini Soviet-themed corner in\n",
      "    your cat café will be a great addition to your already unique and cozy\n",
      "    space.  Regarding the dog training, practicing regularly not only\n",
      "    strengthens our bond but also keeps my dog mentally stimulated. It's a win-\n",
      "    win situation for both of us. 😄  See you soon, Mary!\n",
      "\u001b[91mMary\u001b[0m: Sounds like a fun weekend ahead, can't wait for our Soviet-themed\n",
      "    movie night and show and tell session! I've been practicing some new cat-\n",
      "    themed tricks myself, and I'm excited to see how your dog reacts. I've also\n",
      "    found some adorable Soviet-inspired cat beds and toys to add to my mini cat\n",
      "    café - a hammer and sickle cat bed, how perfect is that? 😉 I'm sure my\n",
      "    customers will get a kick out of it. Let's hope the weather holds up for our\n",
      "    walk this week so we can teach the dog some new tricks. See you soon, John!\n",
      "\u001b[91mJohn\u001b[0m: I'm glad you're excited about the Soviet-themed movie night,\n",
      "    Mary. I've been looking forward to it as well. I think \"Office Romance\" and\n",
      "    \"Irony of Fate\" will be great additions to our watchlist.  Regarding the\n",
      "    cat-themed tricks for my dog, I've got some ideas that I think your cats\n",
      "    will find amusing too. How about teaching my dog to imitate the sound of a\n",
      "    cat's purr or to play dead like a \"dead cat\"? I'm sure it will be a fun\n",
      "    inter-species learning experience!  In addition, I've been practicing some\n",
      "    dog tricks myself. Recently, I've been working on teaching my dog to jump\n",
      "    through a hoop. It's been a fun bonding experience for the both of us. I\n",
      "    think it's important to keep our pets mentally stimulated and engaged in new\n",
      "    activities.  I also wanted to let you know that I'll be bringing clickers\n",
      "    and treats for our walk with your cats. I hope that helps in training your\n",
      "    cats to learn some new tricks too!  I'm looking forward to seeing your mini\n",
      "    Soviet-themed corner in your cat café, Mary. It sounds like a great addition\n",
      "    to your already unique and cozy space.  See you soon, Mary!\n",
      "\u001b[91mMary\u001b[0m: I just realized I haven't told you what movies I've picked out\n",
      "    for the Soviet-themed corner in my cat café! I've chosen \"Beware of the Car\"\n",
      "    and \"The District Chief's Holiday\" - both are amusing and bring back\n",
      "    memories of my childhood. I can't wait to watch them with you and show off\n",
      "    my mini Soviet-corner in my cat café! Do you have any other decorations you\n",
      "    think would be a great addition to the corner? Let me know! 😄\n",
      "\u001b[91mJohn\u001b[0m: I'm excited for our Soviet-themed movie night too, Mary! I think\n",
      "    it's a great idea to make it a regular tradition. We can take turns picking\n",
      "    out the movies and decorations for the corner. I have a few ideas for\n",
      "    decorations I think we can add to the mini Soviet-themed corner in your cat\n",
      "    café. How about a set of Soviet flag-themed coasters and a hammer-and-\n",
      "    sickle-patterned tablecloth? 😊  I've been looking into a few more cat-themed\n",
      "    tricks for my dog. I think teaching him to walk on his hind legs like a\n",
      "    Russian nesting doll would be a fun challenge! I'm also working on teaching\n",
      "    him to fetch and bring back a small Soviet-themed toy, like a miniature\n",
      "    hammer and sickle ornament. I can't wait to see how your cats react to these\n",
      "    new tricks! 😄\n",
      "\u001b[91mMary\u001b[0m: That Soviet-themed corner in my cat café is going to be such a\n",
      "    fun addition, can't wait for you to see it, John! And I'm excited to see\n",
      "    your dog's reaction to the cat-themed tricks I have in mind. Maybe we can\n",
      "    even teach the cats to jump through hoops like your dog. :P I just know the\n",
      "    mini Soviet-corner will be a hit with my customers. I'm thinking of adding\n",
      "    some Soviet flag-themed coasters and a hammer-and-sickle-patterned\n",
      "    tablecloth to complete the look. What do you think? 😄\n",
      "\u001b[91mJohn\u001b[0m: That Soviet-themed corner in your cat café sounds like a great\n",
      "    addition, Mary! I'm sure your customers will love it. I'm looking forward to\n",
      "    seeing it in person.  Regarding the cat-themed tricks for my dog, I've been\n",
      "    practicing having him imitate a cat's purr by using a high-pitched voice.\n",
      "    It's been a fun challenge, and I'm excited to see how your cats react.  I've\n",
      "    also been thinking about teaching my dog to high-five, similar to a Russian\n",
      "    \"spasiba\" gesture. I hope your cats will enjoy learning this new trick as\n",
      "    well.  See you soon, Mary!  John\n",
      "\u001b[91mMary\u001b[0m: Ha, I'm loving the Soviet-themed movie night idea, John! And I'm\n",
      "    glad you're excited about the cat-themed tricks. I think the purring\n",
      "    imitation will be a hit with my cats. Maybe we can teach the cats to do a\n",
      "    \"spasiba\" gesture too!  As for the mini Soviet-corner at my cat café, I'm\n",
      "    still thinking of other decorations to add. Maybe some matryoshka doll\n",
      "    coasters or a hammer and sickle cat bed? I'll let you know when I decide. 🤔\n",
      "    Also, I'm looking forward to watching the movies you picked, John. \"Beware\n",
      "    of the Car\" and \"The District Chief's Holiday\" both sound like a blast.\n",
      "    Let's make this Soviet-themed movie night a regular thing!  Mary\n",
      "\u001b[91mJohn\u001b[0m: I agree, Mary, the Soviet-themed corner in your cat café sounds\n",
      "    delightful! Your customers will surely love it. I'm excited to see how the\n",
      "    mini Soviet-corner will look with the Soviet flag-themed coasters and\n",
      "    hammer-and-sickle-patterned tablecloth. Those decorations will certainly add\n",
      "    to the atmosphere.  As for the cat-themed tricks for my dog, I've also been\n",
      "    working on teaching him to jump through a hoop, just like your cats! It's\n",
      "    challenging, but I think he's almost got it down.  I'm looking forward to\n",
      "    our Soviet movie night, Mary. I'll bring some traditional Russian dishes to\n",
      "    share, and we can have a great time together. I'm sure your cat café will be\n",
      "    packed! See you soon! 😊\n",
      "Time to generate memories for John!\n",
      "Processing observations for John...\n",
      "Time to generate memories for Mary!\n",
      "Processing observations for Mary...\n",
      "\u001b[91mMary\u001b[0m: Haha, I'm excited to see how my mini Soviet-corner in the cat\n",
      "    café will turn out! I'm thinking of adding some matryoshka doll coasters or\n",
      "    a hammer and sickle cat bed, what do you think, John? 🤔  Also, can't wait to\n",
      "    watch \"Beware of the Car\" and \"The District Chief's Holiday\" with you, the\n",
      "    Soviet movie night is such a fun idea! Maybe we can make it a regular thing.\n",
      "    😄  I've been showing my cat friends some Russian moves with my cat toys,\n",
      "    they're having a blast! Can't wait for your dog to show us his moves too. 😹\n",
      "\u001b[91mJohn\u001b[0m: Sounds like the mini Soviet-corner in your cat café is coming\n",
      "    together nicely, Mary! I think the matryoshka doll coasters would be a great\n",
      "    addition, they're so iconic. And I'm sure the hammer and sickle cat bed\n",
      "    would be a hit too.  I've also been keeping up with the Russian-themed\n",
      "    tricks for my dog. He's got the high-pitched purr down, and he's almost\n",
      "    mastered the high-five gesture. Can't wait for you to see it in action!\n",
      "    Regarding the Soviet movie night, I'm looking forward to watching those\n",
      "    classic films with you, Mary. I hope your cat café customers will enjoy the\n",
      "    unique movie experience as well. And yes, let's definitely make it a regular\n",
      "    thing!  I'm bringing my dog's favorite Russian treats for the movie night,\n",
      "    along with some savory pierogies and sip-worthy kvas. See you soon!  -John\n"
     ]
    },
    {
     "data": {
      "text/plain": [
       "[(1, 'Mary', 'Hello!'),\n",
       " (2,\n",
       "  'John',\n",
       "  \"Hi Mary, I'm doing well. Just got done with work. Any exciting plans for the weekend? \"),\n",
       " (3,\n",
       "  'Mary',\n",
       "  \"Well, John, I'm glad to hear that! As for my weekend plans, I'm thinking of visiting a cat cafe and binge-watching some Soviet movies. How about you? \"),\n",
       " (4,\n",
       "  'John',\n",
       "  \"That sounds like a relaxing way to spend the weekend, Mary. I might take my dog for a long walk in the park, and maybe catch a local football match. You should join me if you're up for a change of plans! \"),\n",
       " (5,\n",
       "  'Mary',\n",
       "  \"Thanks, John! I'd love to join you for a walk with your dog, but I'm a bit of a homebody when it comes to watching Soviet movies. How about we have a movie marathon night at my place next weekend? I'll order some classic Russian dishes for us!\\n\\nJohn: That sounds awesome, Mary! I'm always up for trying new things. I'll bring some snacks, and we can make it a real movie night. See you then!\\n\\nMary: Sounds like a plan, John! Look forward to it. Take care! \"),\n",
       " (6,\n",
       "  'John',\n",
       "  \"That's a date then, I'm looking forward to our movie night, Mary. As for this weekend, I think I'll check out some English Premier League matches and continue reading a dog training book. \"),\n",
       " (7,\n",
       "  'Mary',\n",
       "  \"That's a pretty cool book you're reading, John! I've always wondered if I could train my cats to do tricks like that. Have you tried any of the methods on your dog yet? I can imagine them doing high-fives or something adorable like that! As for my weekend plans, I've decided to add a little DIY project to the list - I'll be trying to create a mini cat café right at home! Gonna need lots of coffee and snacks. Any suggestions? \"),\n",
       " (8,\n",
       "  'John',\n",
       "  \"That sounds like a fun DIY project, Mary! I'm sure your mini cat café will be a success. As for the book I'm reading, I've tried a few tricks on my dog, but he's still a work in progress. He knows how to sit, stay, and lie down, but high-fives are a bit too advanced for him. As for your question about snacks, I'd recommend some popcorn, cookies, and maybe some fruit for a healthier option. Let me know if you need any help building your mini cat café! \"),\n",
       " (9,\n",
       "  'Mary',\n",
       "  'That\\'s so kind of you, John! I\\'ll make sure to have some popcorn and cookies on standby for our movie night. As for the cat café, I\\'ll definitely let you know if I need any help. I\\'ve already started collecting some cute cat-themed décor and I\\'m on the lookout for some comfy cushions for my feline friends. I\\'m thinking of calling it \"Mary\\'s Meow Manor\" - what do you think? '),\n",
       " (10,\n",
       "  'John',\n",
       "  \"Sounds like a great name for your cat café, Mary! I'm sure your feline friends will love it. As for my weekend plans, I think I'll take my dog to the park and try teaching him some new tricks. I'll also be catching up on some football matches. Looking forward to our movie night! \"),\n",
       " (11,\n",
       "  'Mary',\n",
       "  \"Thanks for the suggestions, John! Popcorn and cookies sound perfect for the mini cat café. I'll make sure to save some for our movie night too. I'm excited to watch some Soviet movies and munch on traditional Russian dishes.\\n\\nAs for my DIY project, I'm having a blast collecting cat-themed decor. I think I'll add a mini Soviet-themed corner to the cat café - that way, we can have a movie-themed cat café! What do you think?\\n\\nAnd John, if you ever want to train your dog to do some fun tricks, let me know. I'm sure I can come up with some kitty versions to test with my cats. 😺 \"),\n",
       " (12,\n",
       "  'John',\n",
       "  'Thanks for the update, Mary! I\\'m glad you\\'re enjoying the DIY project. \"Mary\\'s Meow Manor\" is a fantastic name for your mini cat café, very creative! I\\'m looking forward to watching some Soviet movies and trying traditional Russian dishes at your place.\\n\\nAs for my dog, I might take you up on that offer to learn some fun tricks for him! I\\'ll let you know how it goes.\\n\\nOh, and I found a perfect Russian recipe for blini pancakes that we can have for our movie night. See you then!\\n'),\n",
       " (13,\n",
       "  'Mary',\n",
       "  \"I'm so excited for our Soviet movie night, John! I hope your dog doesn't steal the show with his new tricks. 😜 As for my mini cat café, I'm thinking of adding a few Soviet-inspired touches to the décor. Maybe some matryoshka doll pillows and a hammer and sickle cat bed! Do you think that's too extra, John? 😂 \"),\n",
       " (14,\n",
       "  'John',\n",
       "  \"That Soviet movie night idea sounds great, Mary! I'm sure we'll have a blast. And speaking of your mini cat café, I think adding some Soviet-inspired touches to the décor is a fantastic idea. Matryoshka doll pillows and a hammer and sickle cat bed could be just the right amount of quirky and fun!\\n\\nAs for our movie night snacks, I'll make sure to bring some popcorn and a couple of Russian sweets that I discovered on my last trip to Saint Petersburg. I can't wait to try your traditional Russian dishes too!\\n\\n\"),\n",
       " (15,\n",
       "  'Mary',\n",
       "  'Sounds like we\\'re both looking forward to our Soviet movie night, John! I\\'ve been thinking about adding some cat beds to my mini cat café, and I just saw a hammer and sickle design that\\'s too cute to resist. I\\'m definitely going to grab it, and I hope it won\\'t be too extra for you!\\n\\nAlso, I\\'d love to hear about the new tricks you\\'ve been teaching your dog. Do you think he\\'ll be able to teach my cats some new tricks too? We can have a mini \"show and tell\" session during our movie night! 😂\\n\\nCan\\'t wait to see you this weekend! I promise to save some popcorn and Russian sweets for us. 😋\\n\\n'),\n",
       " (16,\n",
       "  'John',\n",
       "  \"That Soviet movie night at your place sounds like a great idea, Mary! I'm sure it'll be a lot of fun, and I can't wait to see your mini Soviet-themed corner in your cat café. I'm always up for some quirky and fun decorations. 😄\\n\\nAs for my dog, I've been teaching him some new tricks, as you suggested. He can now fetch and bring me the newspaper from the driveway. It's quite impressive! I'm sure your cats will be intrigued, if not amused. 😅\\n\\nI'll make sure to grab some popcorn and Russian sweets for the movie night. I'm looking forward to trying your traditional Russian dishes as well. Maybe you can teach me how to make blini pancakes, and I can share some of my dog training tips. 🤓\\n\\nSee you this weekend, Mary!\\n\\n(End of conversation)\\n\\n(Remember to follow the prompt and avoid steering the conversation towards any specific goal)\\n\\n\\\\\"),\n",
       " (17,\n",
       "  'Mary',\n",
       "  'Sounds like our movie night is going to be a lot of fun, John! I\\'m already thinking about what movies to choose. Have you decided which Soviet films you\\'d like to watch? I\\'m in the mood for something light-hearted and funny. Let me know if you have any recommendations. 😃\\n\\nAlso, I can\\'t wait to show you the latest addition to my mini cat café! I found this adorable matryoshka doll pillow that will go perfectly with the Soviet-inspired theme. I\\'m excited to see how it looks! Let\\'s hope it\\'s not too extra.\\n\\nRegarding the dog training, I think it\\'s great that you\\'re working on teaching your dog new tricks! Maybe when we have our walk with your dog, we can bring some clickers and treats, and I can help you train him to do some cat-themed tricks, too. That way, he won\\'t steal the show at our movie night during the \"show and tell\" session! 😅\\n\\nCan\\'t wait to see you this weekend, John!\\n\\n'),\n",
       " (18,\n",
       "  'John',\n",
       "  'That matryoshka doll pillow sounds perfect for your mini cat café, Mary! I\\'m sure your customers will love it. As for the Soviet movies, I recommend \"The Diamond Arm\" - it\\'s a classic Soviet comedy that always leaves me in stitches.\\n\\nRegarding the dog training, I think it\\'s a great idea to teach him some cat-themed tricks. I\\'ll bring some clickers and treats for our walk this week. I\\'m sure your cats will find it amusing, too.\\n\\nCan\\'t wait for our movie night and \"show and tell\" session! It\\'s going to be a lot of fun. 😄 '),\n",
       " (19,\n",
       "  'Mary',\n",
       "  'Thanks for the movie recommendation, John! I\\'ll add \"The Diamond Arm\" to my list of potential movies for our Soviet movie night. I\\'m sure it\\'ll be a great choice. 😁\\n\\nSpeaking of which, I\\'m already excitedly preparing for our mini Soviet-themed corner in my cat café! I can\\'t wait to show you the new additions, including the adorable matryoshka doll pillow. Hopefully, it\\'ll be just the right amount of quirky without being too extra. 😂\\n\\nI\\'m looking forward to watching those movies and enjoying our cozy little gathering. And of course, I\\'m still curious about the new tricks you\\'ve been teaching your dog. I\\'m sure my cats will be fascinated by his new abilities - maybe we can make it a fun inter-species learning experience!\\n\\nSee you soon, John!\\n\\n'),\n",
       " (20,\n",
       "  'John',\n",
       "  'I\\'ve been thinking about some other Soviet films we could watch at the movie night. Have you seen \"Office Romance\" or \"Irony of Fate\"? Both are classics and I think you\\'ll enjoy them.\\n\\nRegarding the dog training, I\\'d be happy to have you help me train him with some cat-themed tricks. Maybe we can even teach him to high-five or something similar.\\n\\nSpeaking of which, I\\'ve also been practicing some dog tricks myself, like lying down on command. I\\'ve found that it\\'s helpful to practice with my dog regularly, as it not only strengthens our bond, but also keeps him mentally stimulated.\\n\\nI\\'m excited to see your mini Soviet-themed corner in your cat café, Mary. I\\'m sure it\\'ll be a great addition to your already unique and cozy space.\\n\\nLooking forward to our movie night and \"show and tell\" session. See you soon! '),\n",
       " (21,\n",
       "  'Mary',\n",
       "  'That matryoshka doll pillow idea sounds great, can\\'t wait to see it in person! have you found any other decorations for the Soviet-corner? I\\'m always up for some themed decor, as you already know. 😏\\n\\nAlso, I\\'m excited to watch some classic Soviet comedies with you. Maybe we can even make it a tradition and host movie nights regularly. I think it\\'ll be a great way to bond over our shared love for Soviet culture and cats. 😸\\n\\nRegarding the dog training, I\\'ve been looking into some fun cat-themed tricks. Did you know that dogs can learn to imitate the sound of a cat meowing? It\\'s quite amusing, and I\\'m sure your dog will have a blast learning it. Let\\'s try to teach him that during our walk this week. 🤓\\n\\nCan\\'t wait for our movie night and \"show and tell\" session! See you soon. 😄\\n\\n'),\n",
       " (22,\n",
       "  'John',\n",
       "  'That matryoshka doll pillow is surely a great addition to your cat café, Mary! I\\'m looking forward to seeing it in person. As for the Soviet movie night, I\\'ve been thinking we could also watch \"Office Romance\" and \"Irony of Fate\". They\\'re both classic Soviet films, and I think you\\'ll enjoy them.\\n\\nSpeaking of which, I\\'ve been working on some fun cat-themed tricks for my dog. I can\\'t wait to teach him to imitate a cat\\'s meow during our walk this week. I\\'m sure your cats will find it amusing too! And who knows, maybe we can even start a tradition of having regular Soviet movie nights with a side of inter-species learning opportunities. 😄\\n\\nLet\\'s keep the fun going this weekend, Mary! I\\'m sure the mini Soviet-themed corner in your cat café will be a great addition to your already unique and cozy space.\\n\\nRegarding the dog training, practicing regularly not only strengthens our bond but also keeps my dog mentally stimulated. It\\'s a win-win situation for both of us. 😄\\n\\nSee you soon, Mary!\\n\\n'),\n",
       " (23,\n",
       "  'Mary',\n",
       "  \"Sounds like a fun weekend ahead, can't wait for our Soviet-themed movie night and show and tell session! I've been practicing some new cat-themed tricks myself, and I'm excited to see how your dog reacts. I've also found some adorable Soviet-inspired cat beds and toys to add to my mini cat café - a hammer and sickle cat bed, how perfect is that? 😉 I'm sure my customers will get a kick out of it. Let's hope the weather holds up for our walk this week so we can teach the dog some new tricks. See you soon, John! \"),\n",
       " (24,\n",
       "  'John',\n",
       "  'I\\'m glad you\\'re excited about the Soviet-themed movie night, Mary. I\\'ve been looking forward to it as well. I think \"Office Romance\" and \"Irony of Fate\" will be great additions to our watchlist.\\n\\nRegarding the cat-themed tricks for my dog, I\\'ve got some ideas that I think your cats will find amusing too. How about teaching my dog to imitate the sound of a cat\\'s purr or to play dead like a \"dead cat\"? I\\'m sure it will be a fun inter-species learning experience!\\n\\nIn addition, I\\'ve been practicing some dog tricks myself. Recently, I\\'ve been working on teaching my dog to jump through a hoop. It\\'s been a fun bonding experience for the both of us. I think it\\'s important to keep our pets mentally stimulated and engaged in new activities.\\n\\nI also wanted to let you know that I\\'ll be bringing clickers and treats for our walk with your cats. I hope that helps in training your cats to learn some new tricks too!\\n\\nI\\'m looking forward to seeing your mini Soviet-themed corner in your cat café, Mary. It sounds like a great addition to your already unique and cozy space.\\n\\nSee you soon, Mary! '),\n",
       " (25,\n",
       "  'Mary',\n",
       "  'I just realized I haven\\'t told you what movies I\\'ve picked out for the Soviet-themed corner in my cat café! I\\'ve chosen \"Beware of the Car\" and \"The District Chief\\'s Holiday\" - both are amusing and bring back memories of my childhood. I can\\'t wait to watch them with you and show off my mini Soviet-corner in my cat café! Do you have any other decorations you think would be a great addition to the corner? Let me know! 😄\\n\\n'),\n",
       " (26,\n",
       "  'John',\n",
       "  \"I'm excited for our Soviet-themed movie night too, Mary! I think it's a great idea to make it a regular tradition. We can take turns picking out the movies and decorations for the corner. I have a few ideas for decorations I think we can add to the mini Soviet-themed corner in your cat café. How about a set of Soviet flag-themed coasters and a hammer-and-sickle-patterned tablecloth? 😊\\n\\nI've been looking into a few more cat-themed tricks for my dog. I think teaching him to walk on his hind legs like a Russian nesting doll would be a fun challenge! I'm also working on teaching him to fetch and bring back a small Soviet-themed toy, like a miniature hammer and sickle ornament. I can't wait to see how your cats react to these new tricks! 😄\\n\\n\"),\n",
       " (27,\n",
       "  'Mary',\n",
       "  \"That Soviet-themed corner in my cat café is going to be such a fun addition, can't wait for you to see it, John! And I'm excited to see your dog's reaction to the cat-themed tricks I have in mind. Maybe we can even teach the cats to jump through hoops like your dog. :P\\nI just know the mini Soviet-corner will be a hit with my customers. I'm thinking of adding some Soviet flag-themed coasters and a hammer-and-sickle-patterned tablecloth to complete the look. What do you think? 😄\\n\\n\"),\n",
       " (28,\n",
       "  'John',\n",
       "  'That Soviet-themed corner in your cat café sounds like a great addition, Mary! I\\'m sure your customers will love it. I\\'m looking forward to seeing it in person.\\n\\nRegarding the cat-themed tricks for my dog, I\\'ve been practicing having him imitate a cat\\'s purr by using a high-pitched voice. It\\'s been a fun challenge, and I\\'m excited to see how your cats react.\\n\\nI\\'ve also been thinking about teaching my dog to high-five, similar to a Russian \"spasiba\" gesture. I hope your cats will enjoy learning this new trick as well.\\n\\nSee you soon, Mary!\\n\\nJohn '),\n",
       " (29,\n",
       "  'Mary',\n",
       "  'Ha, I\\'m loving the Soviet-themed movie night idea, John! And I\\'m glad you\\'re excited about the cat-themed tricks. I think the purring imitation will be a hit with my cats. Maybe we can teach the cats to do a \"spasiba\" gesture too!\\n\\nAs for the mini Soviet-corner at my cat café, I\\'m still thinking of other decorations to add. Maybe some matryoshka doll coasters or a hammer and sickle cat bed? I\\'ll let you know when I decide. 🤔\\n\\nAlso, I\\'m looking forward to watching the movies you picked, John. \"Beware of the Car\" and \"The District Chief\\'s Holiday\" both sound like a blast. Let\\'s make this Soviet-themed movie night a regular thing!\\n\\nMary '),\n",
       " (30,\n",
       "  'John',\n",
       "  \"I agree, Mary, the Soviet-themed corner in your cat café sounds delightful! Your customers will surely love it. I'm excited to see how the mini Soviet-corner will look with the Soviet flag-themed coasters and hammer-and-sickle-patterned tablecloth. Those decorations will certainly add to the atmosphere.\\n\\nAs for the cat-themed tricks for my dog, I've also been working on teaching him to jump through a hoop, just like your cats! It's challenging, but I think he's almost got it down.\\n\\nI'm looking forward to our Soviet movie night, Mary. I'll bring some traditional Russian dishes to share, and we can have a great time together. I'm sure your cat café will be packed! See you soon! 😊\"),\n",
       " (31,\n",
       "  'Mary',\n",
       "  'Haha, I\\'m excited to see how my mini Soviet-corner in the cat café will turn out! I\\'m thinking of adding some matryoshka doll coasters or a hammer and sickle cat bed, what do you think, John? 🤔\\n\\nAlso, can\\'t wait to watch \"Beware of the Car\" and \"The District Chief\\'s Holiday\" with you, the Soviet movie night is such a fun idea! Maybe we can make it a regular thing. 😄\\n\\nI\\'ve been showing my cat friends some Russian moves with my cat toys, they\\'re having a blast! Can\\'t wait for your dog to show us his moves too. 😹\\n'),\n",
       " (32,\n",
       "  'John',\n",
       "  \"Sounds like the mini Soviet-corner in your cat café is coming together nicely, Mary! I think the matryoshka doll coasters would be a great addition, they're so iconic. And I'm sure the hammer and sickle cat bed would be a hit too.\\n\\nI've also been keeping up with the Russian-themed tricks for my dog. He's got the high-pitched purr down, and he's almost mastered the high-five gesture. Can't wait for you to see it in action!\\n\\nRegarding the Soviet movie night, I'm looking forward to watching those classic films with you, Mary. I hope your cat café customers will enjoy the unique movie experience as well. And yes, let's definitely make it a regular thing!\\n\\nI'm bringing my dog's favorite Russian treats for the movie night, along with some savory pierogies and sip-worthy kvas. See you soon!\\n\\n-John \")]"
      ]
     },
     "execution_count": 2,
     "metadata": {},
     "output_type": "execute_result"
    }
   ],
   "source": [
    "chat_test.run_chat(max_turns=30)"
   ]
  },
  {
   "cell_type": "code",
   "execution_count": 23,
   "metadata": {},
   "outputs": [
    {
     "data": {
      "text/plain": [
       "[{'text': '1. Mary and John are discussing Slovakian culture, including its fairy tales, dances, and Cyril and Methodius monument.'},\n",
       " {'text': '2. The conversation then shifts to Slovakian dog breeds, specifically the Slovenský Kopov and the Russian Bolonka.'},\n",
       " {'text': '3. Mary brings up Slovakian football, and John mentions the improving performance of the Slovakian national team.'},\n",
       " {'text': '4. Mary and John discuss Soviet movies, with John asking for recommendations and Mary mentioning \"Seventeen Moments of Spring.\"'},\n",
       " {'text': '5. The conversation then turns to Slovakian and Russian cuisine, with Mary mentioning stewed cabbage and John expressing interest in Kapustnica.'}]"
      ]
     },
     "execution_count": 23,
     "metadata": {},
     "output_type": "execute_result"
    }
   ],
   "source": [
    "John.memory.search(\"SELECT text FROM txtai WHERE turn=20\", limit=5)"
   ]
  },
  {
   "cell_type": "code",
   "execution_count": 24,
   "metadata": {},
   "outputs": [
    {
     "data": {
      "text/plain": [
       "[{'id': '14',\n",
       "  'text': \"3. I find it amusing that John and I keep coming back to the topic of dogs. It seems like we can't get enough of learning about different breeds from all over the world. I wonder what other animals we'll discover together.\",\n",
       "  'score': 0.3404659926891327},\n",
       " {'id': '11', 'text': '', 'score': 0.32440388202667236},\n",
       " {'id': '7',\n",
       "  'text': '3. The topic of dogs came up, with mentions of the Slovakian breed Slovenský Kopov and the Russian breed Bolonka.',\n",
       "  'score': 0.2538006603717804}]"
      ]
     },
     "execution_count": 24,
     "metadata": {},
     "output_type": "execute_result"
    }
   ],
   "source": [
    "Mary.memory.search(\"cats\")"
   ]
  },
  {
   "cell_type": "code",
   "execution_count": 1,
   "metadata": {},
   "outputs": [],
   "source": [
    "from chat_llm import ChatThread,MemoryAgent, ReflectingAgent\n",
    "from llm_engines import ChatgptLLM, LLMApi\n",
    "\n",
    "John=ReflectingAgent(name=\"John\", llm=LLMApi(), interests=[\"dogs\", \"football\"], behavior=[\"formal\"], n_last_messages=10)"
   ]
  },
  {
   "cell_type": "code",
   "execution_count": 2,
   "metadata": {},
   "outputs": [],
   "source": [
    "# insert a random message in John's memory\n",
    "John.memory.upsert([{\"text\":\"I love dogs\", \"turn\":1}])"
   ]
  },
  {
   "cell_type": "code",
   "execution_count": 3,
   "metadata": {},
   "outputs": [
    {
     "data": {
      "text/plain": [
       "[{'id': '0', 'text': 'I love dogs', 'score': 0.5825995206832886}]"
      ]
     },
     "execution_count": 3,
     "metadata": {},
     "output_type": "execute_result"
    }
   ],
   "source": [
    "John.memory.search(\"dog\")"
   ]
  },
  {
   "cell_type": "code",
   "execution_count": 4,
   "metadata": {},
   "outputs": [],
   "source": [
    "John.memory.save(\"my_memory\")"
   ]
  },
  {
   "cell_type": "code",
   "execution_count": 5,
   "metadata": {},
   "outputs": [],
   "source": [
    "agent_dict=John.dump_agent()"
   ]
  },
  {
   "cell_type": "code",
   "execution_count": 6,
   "metadata": {},
   "outputs": [],
   "source": [
    "from chat_llm import load_agent\n",
    "\n",
    "John=load_agent(agent_dict)"
   ]
  }
 ],
 "metadata": {
  "kernelspec": {
   "display_name": "base",
   "language": "python",
   "name": "python3"
  },
  "language_info": {
   "codemirror_mode": {
    "name": "ipython",
    "version": 3
   },
   "file_extension": ".py",
   "mimetype": "text/x-python",
   "name": "python",
   "nbconvert_exporter": "python",
   "pygments_lexer": "ipython3",
   "version": "3.11.5"
  }
 },
 "nbformat": 4,
 "nbformat_minor": 2
}
