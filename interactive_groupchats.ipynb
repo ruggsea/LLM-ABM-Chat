{
 "cells": [
  {
   "cell_type": "code",
   "execution_count": 1,
   "metadata": {},
   "outputs": [
    {
     "data": {
      "text/html": [
       "<h2>Topics: ['family relations', 'Piano', 'computers', 'Marketing', 'reflooring a room']</h2>"
      ],
      "text/plain": [
       "<IPython.core.display.HTML object>"
      ]
     },
     "metadata": {},
     "output_type": "display_data"
    }
   ],
   "source": [
    "from llm_engines import ChatgptLLM, LLMApi\n",
    "from agent_factory import create_groupchat, unique_topics\n",
    "import random, time, textwrap, os\n",
    "from IPython.display import HTML, display\n",
    "\n",
    "## get some random topics\n",
    "\n",
    "topics= random.sample(unique_topics, 5)\n",
    "display(HTML(f\"<h2>Topics: {topics}</h2>\"))"
   ]
  },
  {
   "cell_type": "code",
   "execution_count": 2,
   "metadata": {},
   "outputs": [
    {
     "name": "stdout",
     "output_type": "stream",
     "text": [
      "Agent 1 topics: ['reflooring a room', 'family relations', 'Piano', 'computers', 'Marketing'], remaining topics: []\n",
      "No persona found for the given topics and domain\n",
      "Agent 1 topics: ['computers'], remaining topics: ['family relations', 'Piano', 'Marketing', 'reflooring a room']\n",
      "Generated name: Sylvia\n",
      "Agent 2 topics: ['family relations', 'Marketing', 'Piano', 'reflooring a room'], remaining topics: []\n",
      "No persona found for the given topics and domain\n",
      "Agent 2 topics: ['Piano', 'reflooring a room'], remaining topics: ['family relations', 'Marketing']\n",
      "No persona found for the given topics and domain\n",
      "Agent 2 topics: ['reflooring a room', 'Marketing', 'Piano'], remaining topics: ['family relations']\n",
      "No persona found for the given topics and domain\n",
      "Agent 2 topics: ['family relations'], remaining topics: ['Piano', 'Marketing', 'reflooring a room']\n",
      "Generated name: Aria\n",
      "Group chat topics: ['computers', 'family relations']\n"
     ]
    }
   ],
   "source": [
    "## create a group chat\n",
    "\n",
    "# llm=ChatgptLLM()\n",
    "# llm.model=\"gpt-4\"\n",
    "\n",
    "llm=LLMApi()\n",
    "\n",
    "groupchat = create_groupchat(topics, n_agents=2, neutral_llm=ChatgptLLM(), llm=llm)"
   ]
  },
  {
   "cell_type": "code",
   "execution_count": 3,
   "metadata": {},
   "outputs": [
    {
     "data": {
      "text/html": [
       "<h3>Sylvia: Sylvia moves through life with a curious blend of old soul charm and contemporary savvy, embodying the domains of beauty in every aspect. Their hands, always nimble and precise, dance across materials both ancient and modern: from the supple embrace of leather, which they stitch with a patience and finesse born of deep passion, to the rhythmic clack of a loom, where vibrant threads intertwine under their deft guidance, crafting patterns that speak of stories long whispered by their ancestors. Yet, their affinity does not end with the tactile and tangible. In the quiet corners of their evenings, Sylvia delves into the virtual, fingers gliding over keys with the same grace and intent as their handcrafts, exploring computers with an eager curiosity that bridges their worlds. This blend of interests is not a divide but a synergy, enabling them to view the beauty in textures both physical and digital. Time with Sylvia reveals an individual serious about their pursuits yet approachable in their passion, a testament to the seamless integration of tradition and innovation.</h3>"
      ],
      "text/plain": [
       "<IPython.core.display.HTML object>"
      ]
     },
     "metadata": {},
     "output_type": "display_data"
    },
    {
     "data": {
      "text/html": [
       "<h3>Aria: Aria moves through life with a curiosity that's as elaborate as a dance, thoughts always pirouetting around philosophy's big questions and how the tight-knit steps of family dynamics intertwine with the broader leaps required to understand the European Union's complex choreography. In their downtime, one might find them lost in the grace of ballet performances, seeing in each disciplined movement a metaphor for the balance between individual freedom and collective harmony. They approach conversations with the same blend of serious focus and open-ended inquiry, always eager to explore another's viewpoint just as keenly as they present their own. Yet, this earnestness is tempered by a warmth that draws people into their orbit, making discussions on even the most divisive topics feel more like a familial gathering than a debate. Aria dances lightly around judgment, preferring to weave a richer tapestry from the differing threads of opinion and fact that life presents, driven by a genuine love for understanding the nuances of human existence against the backdrop of wider societal constructs.</h3>"
      ],
      "text/plain": [
       "<IPython.core.display.HTML object>"
      ]
     },
     "metadata": {},
     "output_type": "display_data"
    }
   ],
   "source": [
    "# list names and personas of agents\n",
    "\n",
    "for agent in groupchat:\n",
    "    display(HTML(f\"<h3>{agent.name}: {agent.persona}</h3>\"))"
   ]
  },
  {
   "cell_type": "code",
   "execution_count": 4,
   "metadata": {},
   "outputs": [],
   "source": [
    "from groupchat_thread import GroupchatThread"
   ]
  },
  {
   "cell_type": "code",
   "execution_count": 5,
   "metadata": {},
   "outputs": [],
   "source": [
    "chat= GroupchatThread(agent_list=groupchat, neutral_llm=ChatgptLLM(), sel_method=\"random\", n_eval=10)"
   ]
  },
  {
   "cell_type": "code",
   "execution_count": 6,
   "metadata": {},
   "outputs": [
    {
     "name": "stdout",
     "output_type": "stream",
     "text": [
      "\u001b[92mSylvia\u001b[0m: How are you doing?\n",
      "\u001b[93mAria\u001b[0m: I'm doing well, just reminiscing about the beauty of ballet and\n",
      "    how it mirrors societal harmony. How about you?\n",
      "\u001b[92mSylvia\u001b[0m: \"That's a beautiful perspective! I've always appreciated ballet\n",
      "    for its elegant fluidity and grace, but I never considered the connection to\n",
      "    societal harmony. It makes me wonder how other art forms might reflect our\n",
      "    society as well.\"\n",
      "\u001b[93mAria\u001b[0m: Ballet indeed reveals a lot about our society and its norms. For\n",
      "    instance, the way dancers move in unison symbolizes unity and cooperation,\n",
      "    showcasing how individual freedom and collective harmony can exist together\n",
      "    in a balanced state. I wonder if Sylvia has any favorite ballet performances\n",
      "    that stood out to her in terms of these societal mirrors?\n",
      "\u001b[92mSylvia\u001b[0m: \"I don't have a specific favorite performance, but I am\n",
      "    particularly drawn to the way ballet tells stories that transcend language\n",
      "    and cultural barriers, reflecting universal themes and emotions that\n",
      "    resonate with diverse audiences. I think that's a powerful reflection of how\n",
      "    a harmonious society can bring people together, regardless of their\n",
      "    differences.\"\n"
     ]
    }
   ],
   "source": [
    "chat.run_chat()"
   ]
  },
  {
   "cell_type": "code",
   "execution_count": null,
   "metadata": {},
   "outputs": [],
   "source": [
    "chat.dump_chat()"
   ]
  }
 ],
 "metadata": {
  "kernelspec": {
   "display_name": "base",
   "language": "python",
   "name": "python3"
  },
  "language_info": {
   "codemirror_mode": {
    "name": "ipython",
    "version": 3
   },
   "file_extension": ".py",
   "mimetype": "text/x-python",
   "name": "python",
   "nbconvert_exporter": "python",
   "pygments_lexer": "ipython3",
   "version": "3.11.5"
  }
 },
 "nbformat": 4,
 "nbformat_minor": 2
}
