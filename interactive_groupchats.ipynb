{
 "cells": [
  {
   "cell_type": "code",
   "execution_count": 1,
   "metadata": {},
   "outputs": [
    {
     "data": {
      "text/html": [
       "<h2>Topics: ['family relations', 'Piano', 'computers', 'Marketing', 'reflooring a room']</h2>"
      ],
      "text/plain": [
       "<IPython.core.display.HTML object>"
      ]
     },
     "metadata": {},
     "output_type": "display_data"
    }
   ],
   "source": [
    "from llm_engines import ChatgptLLM, LLMApi\n",
    "from agent_factory import create_groupchat, unique_topics\n",
    "import random, time, textwrap, os\n",
    "from IPython.display import HTML, display\n",
    "\n",
    "## get some random topics\n",
    "\n",
    "topics= random.sample(unique_topics, 5)\n",
    "display(HTML(f\"<h2>Topics: {topics}</h2>\"))"
   ]
  },
  {
   "cell_type": "code",
   "execution_count": 2,
   "metadata": {},
   "outputs": [
    {
     "name": "stdout",
     "output_type": "stream",
     "text": [
      "Agent 1 topics: ['reflooring a room', 'family relations', 'Piano', 'computers', 'Marketing'], remaining topics: []\n",
      "No persona found for the given topics and domain\n",
      "Agent 1 topics: ['computers'], remaining topics: ['family relations', 'Piano', 'Marketing', 'reflooring a room']\n",
      "Generated name: Sylvia\n",
      "Agent 2 topics: ['family relations', 'Marketing', 'Piano', 'reflooring a room'], remaining topics: []\n",
      "No persona found for the given topics and domain\n",
      "Agent 2 topics: ['Piano', 'reflooring a room'], remaining topics: ['family relations', 'Marketing']\n",
      "No persona found for the given topics and domain\n",
      "Agent 2 topics: ['reflooring a room', 'Marketing', 'Piano'], remaining topics: ['family relations']\n",
      "No persona found for the given topics and domain\n",
      "Agent 2 topics: ['family relations'], remaining topics: ['Piano', 'Marketing', 'reflooring a room']\n",
      "Generated name: Aria\n",
      "Group chat topics: ['computers', 'family relations']\n"
     ]
    }
   ],
   "source": [
    "## create a group chat\n",
    "\n",
    "# llm=ChatgptLLM()\n",
    "# llm.model=\"gpt-4\"\n",
    "\n",
    "llm=LLMApi()\n",
    "\n",
    "groupchat = create_groupchat(topics, n_agents=2, neutral_llm=ChatgptLLM(), llm=llm)"
   ]
  },
  {
   "cell_type": "code",
   "execution_count": 3,
   "metadata": {},
   "outputs": [
    {
     "data": {
      "text/html": [
       "<h3>Sylvia: Sylvia moves through life with a curious blend of old soul charm and contemporary savvy, embodying the domains of beauty in every aspect. Their hands, always nimble and precise, dance across materials both ancient and modern: from the supple embrace of leather, which they stitch with a patience and finesse born of deep passion, to the rhythmic clack of a loom, where vibrant threads intertwine under their deft guidance, crafting patterns that speak of stories long whispered by their ancestors. Yet, their affinity does not end with the tactile and tangible. In the quiet corners of their evenings, Sylvia delves into the virtual, fingers gliding over keys with the same grace and intent as their handcrafts, exploring computers with an eager curiosity that bridges their worlds. This blend of interests is not a divide but a synergy, enabling them to view the beauty in textures both physical and digital. Time with Sylvia reveals an individual serious about their pursuits yet approachable in their passion, a testament to the seamless integration of tradition and innovation.</h3>"
      ],
      "text/plain": [
       "<IPython.core.display.HTML object>"
      ]
     },
     "metadata": {},
     "output_type": "display_data"
    },
    {
     "data": {
      "text/html": [
       "<h3>Aria: Aria moves through life with a curiosity that's as elaborate as a dance, thoughts always pirouetting around philosophy's big questions and how the tight-knit steps of family dynamics intertwine with the broader leaps required to understand the European Union's complex choreography. In their downtime, one might find them lost in the grace of ballet performances, seeing in each disciplined movement a metaphor for the balance between individual freedom and collective harmony. They approach conversations with the same blend of serious focus and open-ended inquiry, always eager to explore another's viewpoint just as keenly as they present their own. Yet, this earnestness is tempered by a warmth that draws people into their orbit, making discussions on even the most divisive topics feel more like a familial gathering than a debate. Aria dances lightly around judgment, preferring to weave a richer tapestry from the differing threads of opinion and fact that life presents, driven by a genuine love for understanding the nuances of human existence against the backdrop of wider societal constructs.</h3>"
      ],
      "text/plain": [
       "<IPython.core.display.HTML object>"
      ]
     },
     "metadata": {},
     "output_type": "display_data"
    }
   ],
   "source": [
    "# list names and personas of agents\n",
    "\n",
    "for agent in groupchat:\n",
    "    display(HTML(f\"<h3>{agent.name}: {agent.persona}</h3>\"))"
   ]
  },
  {
   "cell_type": "code",
   "execution_count": 4,
   "metadata": {},
   "outputs": [],
   "source": [
    "from groupchat_thread import GroupchatThread"
   ]
  },
  {
   "cell_type": "code",
   "execution_count": 5,
   "metadata": {},
   "outputs": [],
   "source": [
    "chat= GroupchatThread(agent_list=groupchat, neutral_llm=ChatgptLLM(), sel_method=\"random\", n_eval=10)"
   ]
  },
  {
   "cell_type": "code",
   "execution_count": 6,
   "metadata": {},
   "outputs": [
    {
     "name": "stdout",
     "output_type": "stream",
     "text": [
      "\u001b[92mSylvia\u001b[0m: How are you doing?\n",
      "\u001b[93mAria\u001b[0m: I'm doing well, just reminiscing about the beauty of ballet and\n",
      "    how it mirrors societal harmony. How about you?\n",
      "\u001b[92mSylvia\u001b[0m: \"That's a beautiful perspective! I've always appreciated ballet\n",
      "    for its elegant fluidity and grace, but I never considered the connection to\n",
      "    societal harmony. It makes me wonder how other art forms might reflect our\n",
      "    society as well.\"\n",
      "\u001b[93mAria\u001b[0m: Ballet indeed reveals a lot about our society and its norms. For\n",
      "    instance, the way dancers move in unison symbolizes unity and cooperation,\n",
      "    showcasing how individual freedom and collective harmony can exist together\n",
      "    in a balanced state. I wonder if Sylvia has any favorite ballet performances\n",
      "    that stood out to her in terms of these societal mirrors?\n",
      "\u001b[92mSylvia\u001b[0m: \"I don't have a specific favorite performance, but I am\n",
      "    particularly drawn to the way ballet tells stories that transcend language\n",
      "    and cultural barriers, reflecting universal themes and emotions that\n",
      "    resonate with diverse audiences. I think that's a powerful reflection of how\n",
      "    a harmonious society can bring people together, regardless of their\n",
      "    differences.\"\n",
      "\u001b[93mAria\u001b[0m: I completely agree with Sylvia. The power of ballet lies in its\n",
      "    ability to convey complex human experiences and emotions without the need\n",
      "    for verbal communication, making it a truly global art form. It's\n",
      "    fascinating how movements and expressions can resonate so deeply with\n",
      "    audiences from different backgrounds. Have you ever experienced a\n",
      "    performance that you felt had a particularly strong connection to societal\n",
      "    harmony?\n",
      "\u001b[92mSylvia\u001b[0m: Yes, I have! One performance that stands out to me is\n",
      "    \"Manifesto\" by Sidi Larbi Cherkaoui and Company Fifty-Five. It beautifully\n",
      "    illustrates the idea of unity and harmony through a diverse cast of dancers\n",
      "    representing various cultural backgrounds and dance styles. The choreography\n",
      "    weaves together these unique expressions into a cohesive and harmonious\n",
      "    whole, symbolizing how individuality and collective unity can coexist. It\n",
      "    carries a powerful message that highlights the importance of diversity and\n",
      "    inclusion in our society.\n",
      "\u001b[93mAria\u001b[0m: I've heard wonderful things about \"Manifesto\"! The blending of\n",
      "    different cultural backgrounds and dance styles in the choreography truly\n",
      "    highlights the importance of diversity and inclusion, and proves how these\n",
      "    distinct expressions can unify to create a harmonious whole. I can only\n",
      "    imagine the powerful message it conveys in its performance.\n",
      "\u001b[92mSylvia\u001b[0m: I completely agree, Aria! The way \"Manifesto\" weaves together\n",
      "    unique expressions into a cohesive and harmonious whole is truly inspiring.\n",
      "    It really highlights the importance of embracing individuality while\n",
      "    striving for collective unity. I believe art forms like these have the power\n",
      "    to spark meaningful conversations and promote social harmony.\n",
      "\u001b[93mAria\u001b[0m: What a fascinating performance! \"Manifesto\" seems to be a\n",
      "    brilliant example of how art can promote unity and diversity. By weaving\n",
      "    together various dance styles and cultural backgrounds, the choreography\n",
      "    embodies the harmonious coexistence of individuality and collective unity.\n",
      "    It's truly inspiring and highlights the role of the arts in fostering social\n",
      "    harmony.\n",
      "'NoneType' object has no attribute 'group'\n",
      "Chat evaluation: 4.333333333333333\n",
      "\u001b[92mSylvia\u001b[0m: I'm thrilled that you also found \"Manifesto\" to be inspiring,\n",
      "    Aria. The blending of various dance styles and cultural backgrounds truly\n",
      "    highlights the beauty of unity in diversity, and I believe it's a strong\n",
      "    reminder for us to embrace individuality and strive for collective unity in\n",
      "    our society.\n",
      "\u001b[93mAria\u001b[0m: The integration of diverse dance styles and cultural backgrounds\n",
      "    in \"Manifesto\" truly highlights the power of unity in diversity, emphasizing\n",
      "    the importance of embracing individuality while striving for collective\n",
      "    unity. Art forms like these play a crucial role in promoting social harmony\n",
      "    and inspiring meaningful conversations. I'd love to hear if Sylvia has any\n",
      "    other examples of artistic performances that beautifully reflect these\n",
      "    values.\n",
      "\u001b[92mSylvia\u001b[0m: Yes, Aria! I'd like to bring up another performance that\n",
      "    highlights the beauty of unity in diversity - \"Vessels\" by Damien Jalet and\n",
      "    Kohei Nawa. In this piece, dancers move together in a mesmerizing swirl of\n",
      "    bodies, illustrating the harmonious coexistence of individuality and\n",
      "    collective unity. It's a visual reminder that even in a flowing mass, every\n",
      "    dancer maintains their unique identity and movements, which together create\n",
      "    a captivating and inspiring image of unity.\n",
      "\u001b[93mAria\u001b[0m: \"That sounds like another captivating performance, Sylvia!\n",
      "    'Vessels' seems to be another powerful example of how art can beautifully\n",
      "    convey the balance between individual freedom and collective harmony. I\n",
      "    would love to see how the dancers' unique movements come together to create\n",
      "    a unified and mesmerizing spectacle.\"\n"
     ]
    },
    {
     "ename": "KeyboardInterrupt",
     "evalue": "",
     "output_type": "error",
     "traceback": [
      "\u001b[0;31m---------------------------------------------------------------------------\u001b[0m",
      "\u001b[0;31mKeyboardInterrupt\u001b[0m                         Traceback (most recent call last)",
      "Cell \u001b[0;32mIn[6], line 1\u001b[0m\n\u001b[0;32m----> 1\u001b[0m chat\u001b[38;5;241m.\u001b[39mrun_chat()\n",
      "File \u001b[0;32m~/large_conspiracy_model/groupchat_thread.py:201\u001b[0m, in \u001b[0;36mGroupchatThread.run_chat\u001b[0;34m(self, max_turns)\u001b[0m\n\u001b[1;32m    198\u001b[0m last_messages \u001b[38;5;241m=\u001b[39m \u001b[38;5;28mself\u001b[39m\u001b[38;5;241m.\u001b[39mchat_history[\u001b[38;5;241m-\u001b[39m\u001b[38;5;241m10\u001b[39m:]\n\u001b[1;32m    200\u001b[0m \u001b[38;5;66;03m# get answer from agent\u001b[39;00m\n\u001b[0;32m--> 201\u001b[0m answer \u001b[38;5;241m=\u001b[39m \u001b[38;5;28mself\u001b[39m\u001b[38;5;241m.\u001b[39mget_chat_answer(last_messages, random_agent)\n\u001b[1;32m    202\u001b[0m \u001b[38;5;66;03m# render last message\u001b[39;00m\n\u001b[1;32m    203\u001b[0m \u001b[38;5;28mself\u001b[39m\u001b[38;5;241m.\u001b[39mrender_last_message()\n",
      "File \u001b[0;32m~/large_conspiracy_model/groupchat_thread.py:82\u001b[0m, in \u001b[0;36mGroupchatThread.get_chat_answer\u001b[0;34m(self, last_messages, agent)\u001b[0m\n\u001b[1;32m     80\u001b[0m other_agents\u001b[38;5;241m=\u001b[39m [a \u001b[38;5;28;01mfor\u001b[39;00m a \u001b[38;5;129;01min\u001b[39;00m \u001b[38;5;28mself\u001b[39m\u001b[38;5;241m.\u001b[39magent_list \u001b[38;5;28;01mif\u001b[39;00m a \u001b[38;5;241m!=\u001b[39m agent]\n\u001b[1;32m     81\u001b[0m other_agents_names \u001b[38;5;241m=\u001b[39m [a\u001b[38;5;241m.\u001b[39mname \u001b[38;5;28;01mfor\u001b[39;00m a \u001b[38;5;129;01min\u001b[39;00m other_agents]\n\u001b[0;32m---> 82\u001b[0m answer\u001b[38;5;241m=\u001b[39m agent\u001b[38;5;241m.\u001b[39mget_answer(last_messages, agent_list\u001b[38;5;241m=\u001b[39mother_agents_names, n_agents\u001b[38;5;241m=\u001b[39m\u001b[38;5;28mlen\u001b[39m(\u001b[38;5;28mself\u001b[39m\u001b[38;5;241m.\u001b[39magent_list), turn_count\u001b[38;5;241m=\u001b[39m\u001b[38;5;28mself\u001b[39m\u001b[38;5;241m.\u001b[39mturn)\n\u001b[1;32m     83\u001b[0m \u001b[38;5;66;03m# increase turn count\u001b[39;00m\n\u001b[1;32m     84\u001b[0m \u001b[38;5;28mself\u001b[39m\u001b[38;5;241m.\u001b[39mturn \u001b[38;5;241m+\u001b[39m\u001b[38;5;241m=\u001b[39m \u001b[38;5;241m1\u001b[39m\n",
      "File \u001b[0;32m~/large_conspiracy_model/dialogue_react_agent.py:256\u001b[0m, in \u001b[0;36mDialogueReactAgent.get_answer\u001b[0;34m(self, last_messages, extra_context, **kwargs)\u001b[0m\n\u001b[1;32m    250\u001b[0m \u001b[38;5;28;01mwhile\u001b[39;00m \u001b[38;5;28;01mTrue\u001b[39;00m:\n\u001b[1;32m    251\u001b[0m     \u001b[38;5;66;03m## the answer is generated by the llm and should be in the format\u001b[39;00m\n\u001b[1;32m    252\u001b[0m     \u001b[38;5;66;03m## Observation: <observation> \u001b[39;00m\n\u001b[1;32m    253\u001b[0m     \u001b[38;5;66;03m# Thought: <thought> \u001b[39;00m\n\u001b[1;32m    254\u001b[0m     \u001b[38;5;66;03m# Action: <action>\u001b[39;00m\n\u001b[1;32m    255\u001b[0m     \u001b[38;5;28;01mtry\u001b[39;00m:\n\u001b[0;32m--> 256\u001b[0m         answer_candidate \u001b[38;5;241m=\u001b[39m \u001b[38;5;28mself\u001b[39m\u001b[38;5;241m.\u001b[39mllm\u001b[38;5;241m.\u001b[39mgenerate_response(prompt)\n\u001b[1;32m    257\u001b[0m         \u001b[38;5;66;03m## find the observation, thought and action\u001b[39;00m\n\u001b[1;32m    258\u001b[0m         observation \u001b[38;5;241m=\u001b[39m re\u001b[38;5;241m.\u001b[39mfindall(\u001b[38;5;124mr\u001b[39m\u001b[38;5;124m\"\u001b[39m\u001b[38;5;124mObservation: (.*?)\u001b[39m\u001b[38;5;124m\\\u001b[39m\u001b[38;5;124mn\u001b[39m\u001b[38;5;124m\"\u001b[39m, answer_candidate)\n",
      "File \u001b[0;32m~/large_conspiracy_model/llm_engines.py:98\u001b[0m, in \u001b[0;36mLLMApi.generate_response\u001b[0;34m(self, user_prompt)\u001b[0m\n\u001b[1;32m     93\u001b[0m \u001b[38;5;66;03m# query api for response\u001b[39;00m\n\u001b[1;32m     94\u001b[0m data \u001b[38;5;241m=\u001b[39m {\n\u001b[1;32m     95\u001b[0m \u001b[38;5;124m\"\u001b[39m\u001b[38;5;124mmode\u001b[39m\u001b[38;5;124m\"\u001b[39m:  \u001b[38;5;124m\"\u001b[39m\u001b[38;5;124minstruct\u001b[39m\u001b[38;5;124m\"\u001b[39m,\n\u001b[1;32m     96\u001b[0m \u001b[38;5;124m\"\u001b[39m\u001b[38;5;124mmessages\u001b[39m\u001b[38;5;124m\"\u001b[39m: \u001b[38;5;28mself\u001b[39m\u001b[38;5;241m.\u001b[39mhistory,\n\u001b[1;32m     97\u001b[0m }\n\u001b[0;32m---> 98\u001b[0m response \u001b[38;5;241m=\u001b[39m requests\u001b[38;5;241m.\u001b[39mpost(url, headers\u001b[38;5;241m=\u001b[39mheaders, json\u001b[38;5;241m=\u001b[39mdata, verify\u001b[38;5;241m=\u001b[39m\u001b[38;5;28;01mFalse\u001b[39;00m, )\n\u001b[1;32m    100\u001b[0m assistant_message \u001b[38;5;241m=\u001b[39m response\u001b[38;5;241m.\u001b[39mjson()[\u001b[38;5;124m'\u001b[39m\u001b[38;5;124mchoices\u001b[39m\u001b[38;5;124m'\u001b[39m][\u001b[38;5;241m0\u001b[39m][\u001b[38;5;124m'\u001b[39m\u001b[38;5;124mmessage\u001b[39m\u001b[38;5;124m'\u001b[39m][\u001b[38;5;124m'\u001b[39m\u001b[38;5;124mcontent\u001b[39m\u001b[38;5;124m'\u001b[39m]\n\u001b[1;32m    101\u001b[0m \u001b[38;5;28mself\u001b[39m\u001b[38;5;241m.\u001b[39mhistory\u001b[38;5;241m.\u001b[39mappend({\u001b[38;5;124m\"\u001b[39m\u001b[38;5;124mrole\u001b[39m\u001b[38;5;124m\"\u001b[39m: \u001b[38;5;124m\"\u001b[39m\u001b[38;5;124massistant\u001b[39m\u001b[38;5;124m\"\u001b[39m, \u001b[38;5;124m\"\u001b[39m\u001b[38;5;124mcontent\u001b[39m\u001b[38;5;124m\"\u001b[39m: assistant_message})\n",
      "File \u001b[0;32m~/anaconda3/lib/python3.11/site-packages/requests/api.py:115\u001b[0m, in \u001b[0;36mpost\u001b[0;34m(url, data, json, **kwargs)\u001b[0m\n\u001b[1;32m    103\u001b[0m \u001b[38;5;28;01mdef\u001b[39;00m \u001b[38;5;21mpost\u001b[39m(url, data\u001b[38;5;241m=\u001b[39m\u001b[38;5;28;01mNone\u001b[39;00m, json\u001b[38;5;241m=\u001b[39m\u001b[38;5;28;01mNone\u001b[39;00m, \u001b[38;5;241m*\u001b[39m\u001b[38;5;241m*\u001b[39mkwargs):\n\u001b[1;32m    104\u001b[0m \u001b[38;5;250m    \u001b[39m\u001b[38;5;124mr\u001b[39m\u001b[38;5;124;03m\"\"\"Sends a POST request.\u001b[39;00m\n\u001b[1;32m    105\u001b[0m \n\u001b[1;32m    106\u001b[0m \u001b[38;5;124;03m    :param url: URL for the new :class:`Request` object.\u001b[39;00m\n\u001b[0;32m   (...)\u001b[0m\n\u001b[1;32m    112\u001b[0m \u001b[38;5;124;03m    :rtype: requests.Response\u001b[39;00m\n\u001b[1;32m    113\u001b[0m \u001b[38;5;124;03m    \"\"\"\u001b[39;00m\n\u001b[0;32m--> 115\u001b[0m     \u001b[38;5;28;01mreturn\u001b[39;00m request(\u001b[38;5;124m\"\u001b[39m\u001b[38;5;124mpost\u001b[39m\u001b[38;5;124m\"\u001b[39m, url, data\u001b[38;5;241m=\u001b[39mdata, json\u001b[38;5;241m=\u001b[39mjson, \u001b[38;5;241m*\u001b[39m\u001b[38;5;241m*\u001b[39mkwargs)\n",
      "File \u001b[0;32m~/anaconda3/lib/python3.11/site-packages/requests/api.py:59\u001b[0m, in \u001b[0;36mrequest\u001b[0;34m(method, url, **kwargs)\u001b[0m\n\u001b[1;32m     55\u001b[0m \u001b[38;5;66;03m# By using the 'with' statement we are sure the session is closed, thus we\u001b[39;00m\n\u001b[1;32m     56\u001b[0m \u001b[38;5;66;03m# avoid leaving sockets open which can trigger a ResourceWarning in some\u001b[39;00m\n\u001b[1;32m     57\u001b[0m \u001b[38;5;66;03m# cases, and look like a memory leak in others.\u001b[39;00m\n\u001b[1;32m     58\u001b[0m \u001b[38;5;28;01mwith\u001b[39;00m sessions\u001b[38;5;241m.\u001b[39mSession() \u001b[38;5;28;01mas\u001b[39;00m session:\n\u001b[0;32m---> 59\u001b[0m     \u001b[38;5;28;01mreturn\u001b[39;00m session\u001b[38;5;241m.\u001b[39mrequest(method\u001b[38;5;241m=\u001b[39mmethod, url\u001b[38;5;241m=\u001b[39murl, \u001b[38;5;241m*\u001b[39m\u001b[38;5;241m*\u001b[39mkwargs)\n",
      "File \u001b[0;32m~/anaconda3/lib/python3.11/site-packages/requests/sessions.py:587\u001b[0m, in \u001b[0;36mSession.request\u001b[0;34m(self, method, url, params, data, headers, cookies, files, auth, timeout, allow_redirects, proxies, hooks, stream, verify, cert, json)\u001b[0m\n\u001b[1;32m    582\u001b[0m send_kwargs \u001b[38;5;241m=\u001b[39m {\n\u001b[1;32m    583\u001b[0m     \u001b[38;5;124m\"\u001b[39m\u001b[38;5;124mtimeout\u001b[39m\u001b[38;5;124m\"\u001b[39m: timeout,\n\u001b[1;32m    584\u001b[0m     \u001b[38;5;124m\"\u001b[39m\u001b[38;5;124mallow_redirects\u001b[39m\u001b[38;5;124m\"\u001b[39m: allow_redirects,\n\u001b[1;32m    585\u001b[0m }\n\u001b[1;32m    586\u001b[0m send_kwargs\u001b[38;5;241m.\u001b[39mupdate(settings)\n\u001b[0;32m--> 587\u001b[0m resp \u001b[38;5;241m=\u001b[39m \u001b[38;5;28mself\u001b[39m\u001b[38;5;241m.\u001b[39msend(prep, \u001b[38;5;241m*\u001b[39m\u001b[38;5;241m*\u001b[39msend_kwargs)\n\u001b[1;32m    589\u001b[0m \u001b[38;5;28;01mreturn\u001b[39;00m resp\n",
      "File \u001b[0;32m~/anaconda3/lib/python3.11/site-packages/requests/sessions.py:701\u001b[0m, in \u001b[0;36mSession.send\u001b[0;34m(self, request, **kwargs)\u001b[0m\n\u001b[1;32m    698\u001b[0m start \u001b[38;5;241m=\u001b[39m preferred_clock()\n\u001b[1;32m    700\u001b[0m \u001b[38;5;66;03m# Send the request\u001b[39;00m\n\u001b[0;32m--> 701\u001b[0m r \u001b[38;5;241m=\u001b[39m adapter\u001b[38;5;241m.\u001b[39msend(request, \u001b[38;5;241m*\u001b[39m\u001b[38;5;241m*\u001b[39mkwargs)\n\u001b[1;32m    703\u001b[0m \u001b[38;5;66;03m# Total elapsed time of the request (approximately)\u001b[39;00m\n\u001b[1;32m    704\u001b[0m elapsed \u001b[38;5;241m=\u001b[39m preferred_clock() \u001b[38;5;241m-\u001b[39m start\n",
      "File \u001b[0;32m~/anaconda3/lib/python3.11/site-packages/requests/adapters.py:489\u001b[0m, in \u001b[0;36mHTTPAdapter.send\u001b[0;34m(self, request, stream, timeout, verify, cert, proxies)\u001b[0m\n\u001b[1;32m    487\u001b[0m \u001b[38;5;28;01mtry\u001b[39;00m:\n\u001b[1;32m    488\u001b[0m     \u001b[38;5;28;01mif\u001b[39;00m \u001b[38;5;129;01mnot\u001b[39;00m chunked:\n\u001b[0;32m--> 489\u001b[0m         resp \u001b[38;5;241m=\u001b[39m conn\u001b[38;5;241m.\u001b[39murlopen(\n\u001b[1;32m    490\u001b[0m             method\u001b[38;5;241m=\u001b[39mrequest\u001b[38;5;241m.\u001b[39mmethod,\n\u001b[1;32m    491\u001b[0m             url\u001b[38;5;241m=\u001b[39murl,\n\u001b[1;32m    492\u001b[0m             body\u001b[38;5;241m=\u001b[39mrequest\u001b[38;5;241m.\u001b[39mbody,\n\u001b[1;32m    493\u001b[0m             headers\u001b[38;5;241m=\u001b[39mrequest\u001b[38;5;241m.\u001b[39mheaders,\n\u001b[1;32m    494\u001b[0m             redirect\u001b[38;5;241m=\u001b[39m\u001b[38;5;28;01mFalse\u001b[39;00m,\n\u001b[1;32m    495\u001b[0m             assert_same_host\u001b[38;5;241m=\u001b[39m\u001b[38;5;28;01mFalse\u001b[39;00m,\n\u001b[1;32m    496\u001b[0m             preload_content\u001b[38;5;241m=\u001b[39m\u001b[38;5;28;01mFalse\u001b[39;00m,\n\u001b[1;32m    497\u001b[0m             decode_content\u001b[38;5;241m=\u001b[39m\u001b[38;5;28;01mFalse\u001b[39;00m,\n\u001b[1;32m    498\u001b[0m             retries\u001b[38;5;241m=\u001b[39m\u001b[38;5;28mself\u001b[39m\u001b[38;5;241m.\u001b[39mmax_retries,\n\u001b[1;32m    499\u001b[0m             timeout\u001b[38;5;241m=\u001b[39mtimeout,\n\u001b[1;32m    500\u001b[0m         )\n\u001b[1;32m    502\u001b[0m     \u001b[38;5;66;03m# Send the request.\u001b[39;00m\n\u001b[1;32m    503\u001b[0m     \u001b[38;5;28;01melse\u001b[39;00m:\n\u001b[1;32m    504\u001b[0m         \u001b[38;5;28;01mif\u001b[39;00m \u001b[38;5;28mhasattr\u001b[39m(conn, \u001b[38;5;124m\"\u001b[39m\u001b[38;5;124mproxy_pool\u001b[39m\u001b[38;5;124m\"\u001b[39m):\n",
      "File \u001b[0;32m~/anaconda3/lib/python3.11/site-packages/urllib3/connectionpool.py:715\u001b[0m, in \u001b[0;36mHTTPConnectionPool.urlopen\u001b[0;34m(self, method, url, body, headers, retries, redirect, assert_same_host, timeout, pool_timeout, release_conn, chunked, body_pos, **response_kw)\u001b[0m\n\u001b[1;32m    712\u001b[0m     \u001b[38;5;28mself\u001b[39m\u001b[38;5;241m.\u001b[39m_prepare_proxy(conn)\n\u001b[1;32m    714\u001b[0m \u001b[38;5;66;03m# Make the request on the httplib connection object.\u001b[39;00m\n\u001b[0;32m--> 715\u001b[0m httplib_response \u001b[38;5;241m=\u001b[39m \u001b[38;5;28mself\u001b[39m\u001b[38;5;241m.\u001b[39m_make_request(\n\u001b[1;32m    716\u001b[0m     conn,\n\u001b[1;32m    717\u001b[0m     method,\n\u001b[1;32m    718\u001b[0m     url,\n\u001b[1;32m    719\u001b[0m     timeout\u001b[38;5;241m=\u001b[39mtimeout_obj,\n\u001b[1;32m    720\u001b[0m     body\u001b[38;5;241m=\u001b[39mbody,\n\u001b[1;32m    721\u001b[0m     headers\u001b[38;5;241m=\u001b[39mheaders,\n\u001b[1;32m    722\u001b[0m     chunked\u001b[38;5;241m=\u001b[39mchunked,\n\u001b[1;32m    723\u001b[0m )\n\u001b[1;32m    725\u001b[0m \u001b[38;5;66;03m# If we're going to release the connection in ``finally:``, then\u001b[39;00m\n\u001b[1;32m    726\u001b[0m \u001b[38;5;66;03m# the response doesn't need to know about the connection. Otherwise\u001b[39;00m\n\u001b[1;32m    727\u001b[0m \u001b[38;5;66;03m# it will also try to release it and we'll have a double-release\u001b[39;00m\n\u001b[1;32m    728\u001b[0m \u001b[38;5;66;03m# mess.\u001b[39;00m\n\u001b[1;32m    729\u001b[0m response_conn \u001b[38;5;241m=\u001b[39m conn \u001b[38;5;28;01mif\u001b[39;00m \u001b[38;5;129;01mnot\u001b[39;00m release_conn \u001b[38;5;28;01melse\u001b[39;00m \u001b[38;5;28;01mNone\u001b[39;00m\n",
      "File \u001b[0;32m~/anaconda3/lib/python3.11/site-packages/urllib3/connectionpool.py:467\u001b[0m, in \u001b[0;36mHTTPConnectionPool._make_request\u001b[0;34m(self, conn, method, url, timeout, chunked, **httplib_request_kw)\u001b[0m\n\u001b[1;32m    462\u001b[0m             httplib_response \u001b[38;5;241m=\u001b[39m conn\u001b[38;5;241m.\u001b[39mgetresponse()\n\u001b[1;32m    463\u001b[0m         \u001b[38;5;28;01mexcept\u001b[39;00m \u001b[38;5;167;01mBaseException\u001b[39;00m \u001b[38;5;28;01mas\u001b[39;00m e:\n\u001b[1;32m    464\u001b[0m             \u001b[38;5;66;03m# Remove the TypeError from the exception chain in\u001b[39;00m\n\u001b[1;32m    465\u001b[0m             \u001b[38;5;66;03m# Python 3 (including for exceptions like SystemExit).\u001b[39;00m\n\u001b[1;32m    466\u001b[0m             \u001b[38;5;66;03m# Otherwise it looks like a bug in the code.\u001b[39;00m\n\u001b[0;32m--> 467\u001b[0m             six\u001b[38;5;241m.\u001b[39mraise_from(e, \u001b[38;5;28;01mNone\u001b[39;00m)\n\u001b[1;32m    468\u001b[0m \u001b[38;5;28;01mexcept\u001b[39;00m (SocketTimeout, BaseSSLError, SocketError) \u001b[38;5;28;01mas\u001b[39;00m e:\n\u001b[1;32m    469\u001b[0m     \u001b[38;5;28mself\u001b[39m\u001b[38;5;241m.\u001b[39m_raise_timeout(err\u001b[38;5;241m=\u001b[39me, url\u001b[38;5;241m=\u001b[39murl, timeout_value\u001b[38;5;241m=\u001b[39mread_timeout)\n",
      "File \u001b[0;32m<string>:3\u001b[0m, in \u001b[0;36mraise_from\u001b[0;34m(value, from_value)\u001b[0m\n",
      "File \u001b[0;32m~/anaconda3/lib/python3.11/site-packages/urllib3/connectionpool.py:462\u001b[0m, in \u001b[0;36mHTTPConnectionPool._make_request\u001b[0;34m(self, conn, method, url, timeout, chunked, **httplib_request_kw)\u001b[0m\n\u001b[1;32m    459\u001b[0m \u001b[38;5;28;01mexcept\u001b[39;00m \u001b[38;5;167;01mTypeError\u001b[39;00m:\n\u001b[1;32m    460\u001b[0m     \u001b[38;5;66;03m# Python 3\u001b[39;00m\n\u001b[1;32m    461\u001b[0m     \u001b[38;5;28;01mtry\u001b[39;00m:\n\u001b[0;32m--> 462\u001b[0m         httplib_response \u001b[38;5;241m=\u001b[39m conn\u001b[38;5;241m.\u001b[39mgetresponse()\n\u001b[1;32m    463\u001b[0m     \u001b[38;5;28;01mexcept\u001b[39;00m \u001b[38;5;167;01mBaseException\u001b[39;00m \u001b[38;5;28;01mas\u001b[39;00m e:\n\u001b[1;32m    464\u001b[0m         \u001b[38;5;66;03m# Remove the TypeError from the exception chain in\u001b[39;00m\n\u001b[1;32m    465\u001b[0m         \u001b[38;5;66;03m# Python 3 (including for exceptions like SystemExit).\u001b[39;00m\n\u001b[1;32m    466\u001b[0m         \u001b[38;5;66;03m# Otherwise it looks like a bug in the code.\u001b[39;00m\n\u001b[1;32m    467\u001b[0m         six\u001b[38;5;241m.\u001b[39mraise_from(e, \u001b[38;5;28;01mNone\u001b[39;00m)\n",
      "File \u001b[0;32m~/anaconda3/lib/python3.11/http/client.py:1378\u001b[0m, in \u001b[0;36mHTTPConnection.getresponse\u001b[0;34m(self)\u001b[0m\n\u001b[1;32m   1376\u001b[0m \u001b[38;5;28;01mtry\u001b[39;00m:\n\u001b[1;32m   1377\u001b[0m     \u001b[38;5;28;01mtry\u001b[39;00m:\n\u001b[0;32m-> 1378\u001b[0m         response\u001b[38;5;241m.\u001b[39mbegin()\n\u001b[1;32m   1379\u001b[0m     \u001b[38;5;28;01mexcept\u001b[39;00m \u001b[38;5;167;01mConnectionError\u001b[39;00m:\n\u001b[1;32m   1380\u001b[0m         \u001b[38;5;28mself\u001b[39m\u001b[38;5;241m.\u001b[39mclose()\n",
      "File \u001b[0;32m~/anaconda3/lib/python3.11/http/client.py:318\u001b[0m, in \u001b[0;36mHTTPResponse.begin\u001b[0;34m(self)\u001b[0m\n\u001b[1;32m    316\u001b[0m \u001b[38;5;66;03m# read until we get a non-100 response\u001b[39;00m\n\u001b[1;32m    317\u001b[0m \u001b[38;5;28;01mwhile\u001b[39;00m \u001b[38;5;28;01mTrue\u001b[39;00m:\n\u001b[0;32m--> 318\u001b[0m     version, status, reason \u001b[38;5;241m=\u001b[39m \u001b[38;5;28mself\u001b[39m\u001b[38;5;241m.\u001b[39m_read_status()\n\u001b[1;32m    319\u001b[0m     \u001b[38;5;28;01mif\u001b[39;00m status \u001b[38;5;241m!=\u001b[39m CONTINUE:\n\u001b[1;32m    320\u001b[0m         \u001b[38;5;28;01mbreak\u001b[39;00m\n",
      "File \u001b[0;32m~/anaconda3/lib/python3.11/http/client.py:279\u001b[0m, in \u001b[0;36mHTTPResponse._read_status\u001b[0;34m(self)\u001b[0m\n\u001b[1;32m    278\u001b[0m \u001b[38;5;28;01mdef\u001b[39;00m \u001b[38;5;21m_read_status\u001b[39m(\u001b[38;5;28mself\u001b[39m):\n\u001b[0;32m--> 279\u001b[0m     line \u001b[38;5;241m=\u001b[39m \u001b[38;5;28mstr\u001b[39m(\u001b[38;5;28mself\u001b[39m\u001b[38;5;241m.\u001b[39mfp\u001b[38;5;241m.\u001b[39mreadline(_MAXLINE \u001b[38;5;241m+\u001b[39m \u001b[38;5;241m1\u001b[39m), \u001b[38;5;124m\"\u001b[39m\u001b[38;5;124miso-8859-1\u001b[39m\u001b[38;5;124m\"\u001b[39m)\n\u001b[1;32m    280\u001b[0m     \u001b[38;5;28;01mif\u001b[39;00m \u001b[38;5;28mlen\u001b[39m(line) \u001b[38;5;241m>\u001b[39m _MAXLINE:\n\u001b[1;32m    281\u001b[0m         \u001b[38;5;28;01mraise\u001b[39;00m LineTooLong(\u001b[38;5;124m\"\u001b[39m\u001b[38;5;124mstatus line\u001b[39m\u001b[38;5;124m\"\u001b[39m)\n",
      "File \u001b[0;32m~/anaconda3/lib/python3.11/socket.py:706\u001b[0m, in \u001b[0;36mSocketIO.readinto\u001b[0;34m(self, b)\u001b[0m\n\u001b[1;32m    704\u001b[0m \u001b[38;5;28;01mwhile\u001b[39;00m \u001b[38;5;28;01mTrue\u001b[39;00m:\n\u001b[1;32m    705\u001b[0m     \u001b[38;5;28;01mtry\u001b[39;00m:\n\u001b[0;32m--> 706\u001b[0m         \u001b[38;5;28;01mreturn\u001b[39;00m \u001b[38;5;28mself\u001b[39m\u001b[38;5;241m.\u001b[39m_sock\u001b[38;5;241m.\u001b[39mrecv_into(b)\n\u001b[1;32m    707\u001b[0m     \u001b[38;5;28;01mexcept\u001b[39;00m timeout:\n\u001b[1;32m    708\u001b[0m         \u001b[38;5;28mself\u001b[39m\u001b[38;5;241m.\u001b[39m_timeout_occurred \u001b[38;5;241m=\u001b[39m \u001b[38;5;28;01mTrue\u001b[39;00m\n",
      "\u001b[0;31mKeyboardInterrupt\u001b[0m: "
     ]
    }
   ],
   "source": [
    "chat.run_chat()"
   ]
  },
  {
   "cell_type": "code",
   "execution_count": null,
   "metadata": {},
   "outputs": [],
   "source": [
    "chat.dump_chat()"
   ]
  }
 ],
 "metadata": {
  "kernelspec": {
   "display_name": "base",
   "language": "python",
   "name": "python3"
  },
  "language_info": {
   "codemirror_mode": {
    "name": "ipython",
    "version": 3
   },
   "file_extension": ".py",
   "mimetype": "text/x-python",
   "name": "python",
   "nbconvert_exporter": "python",
   "pygments_lexer": "ipython3",
   "version": "3.11.5"
  }
 },
 "nbformat": 4,
 "nbformat_minor": 2
}
