{
 "cells": [
  {
   "cell_type": "markdown",
   "metadata": {},
   "source": [
    "## Getting topics from FITS dataset"
   ]
  },
  {
   "cell_type": "code",
   "execution_count": 1,
   "metadata": {},
   "outputs": [
    {
     "name": "stdout",
     "output_type": "stream",
     "text": [
      "/home/rlazzaroni/large_conspiracy_model/fits_personas/fits/\n"
     ]
    }
   ],
   "source": [
    "## opening txt files inside a folder\n",
    "import os\n",
    "\n",
    "relative_path = '/fits/'\n",
    "# cwd\n",
    "current_path = os.getcwd()\n",
    "absolute_path = current_path + relative_path\n",
    "print(absolute_path)\n",
    "\n",
    "# get all folders in the relative path and the files inside them\n",
    "files=[]\n",
    "for folder in os.listdir(absolute_path):\n",
    "    # if path is a folder\n",
    "    if os.path.isdir(os.path.join(absolute_path, folder)):\n",
    "        folder_path = os.path.join(absolute_path, folder)\n",
    "        for file in os.listdir(folder_path):\n",
    "            if file.endswith('.txt'):\n",
    "                files.append(os.path.join(folder_path, file))\n",
    "    "
   ]
  },
  {
   "cell_type": "code",
   "execution_count": 4,
   "metadata": {},
   "outputs": [],
   "source": [
    "import pandas as pd\n",
    "import json\n",
    "\n",
    "# read all files\n",
    "data = []\n",
    "for file in files:\n",
    "    with open(file, 'r') as f:\n",
    "        # each line is a json\n",
    "        for line in f:\n",
    "            line_dict=json.loads(line)\n",
    "            data.append(line_dict)"
   ]
  },
  {
   "cell_type": "code",
   "execution_count": 6,
   "metadata": {},
   "outputs": [],
   "source": [
    "# create a dataframe\n",
    "df = pd.DataFrame(data)"
   ]
  },
  {
   "cell_type": "code",
   "execution_count": 8,
   "metadata": {},
   "outputs": [
    {
     "name": "stdout",
     "output_type": "stream",
     "text": [
      "56\n"
     ]
    }
   ],
   "source": [
    "# n of domains\n",
    "print(df['domain'].nunique())"
   ]
  },
  {
   "cell_type": "code",
   "execution_count": 13,
   "metadata": {},
   "outputs": [
    {
     "name": "stdout",
     "output_type": "stream",
     "text": [
      "348\n"
     ]
    }
   ],
   "source": [
    "# n of topics\n",
    "print(df['generic_topic'].nunique())"
   ]
  },
  {
   "cell_type": "code",
   "execution_count": 21,
   "metadata": {},
   "outputs": [
    {
     "name": "stdout",
     "output_type": "stream",
     "text": [
      "['cooking' 'sex in the city' 'United Nations' 'flowers'\n",
      " 'Harvard University' 'American sights' 'picking schools' 'running'\n",
      " 'Ken Burns' 'King Henry V']\n"
     ]
    }
   ],
   "source": [
    "# some random topics\n",
    "print(df['generic_topic'].sample(10).values)"
   ]
  },
  {
   "cell_type": "code",
   "execution_count": 23,
   "metadata": {},
   "outputs": [
    {
     "name": "stdout",
     "output_type": "stream",
     "text": [
      "['Sports' 'Cooking Recipes' 'Parenting' 'Philosophy/Psychology'\n",
      " 'Relationship' 'Travel' 'Literature' 'History' 'Cooking Recipes'\n",
      " 'Science/STEM']\n"
     ]
    }
   ],
   "source": [
    "# print some domains\n",
    "print(df['domain'].sample(10).values)"
   ]
  },
  {
   "cell_type": "code",
   "execution_count": 33,
   "metadata": {},
   "outputs": [],
   "source": [
    "# get df generic topics and domains\n",
    "df_topics = df[['generic_topic', 'domain']].drop_duplicates()"
   ]
  },
  {
   "cell_type": "code",
   "execution_count": 37,
   "metadata": {},
   "outputs": [
    {
     "name": "stdout",
     "output_type": "stream",
     "text": [
      "There are 379 unique pairs of generic topics and domains\n",
      "N topics: 348\n",
      "N domains: 56\n"
     ]
    }
   ],
   "source": [
    "# get counts\n",
    "print(f\"There are {df_topics.shape[0]} unique pairs of generic topics and domains\")\n",
    "print(f\"N topics: {df['generic_topic'].nunique()}\")\n",
    "print(f\"N domains: {df['domain'].nunique()}\")"
   ]
  },
  {
   "cell_type": "code",
   "execution_count": 38,
   "metadata": {},
   "outputs": [
    {
     "data": {
      "text/plain": [
       "domain\n",
       "History                         30\n",
       "Science/STEM                    21\n",
       "Cooking Recipes                 17\n",
       "Travel                          17\n",
       "Home deco/repairs               15\n",
       "Gardening                       15\n",
       "Fitness                         15\n",
       "Movie                           13\n",
       "Celebrity                       13\n",
       "Pets                            13\n",
       "Medical                         12\n",
       "Music                           12\n",
       "Finance                         10\n",
       "Literature                      10\n",
       "Sports                          10\n",
       "Tech/Electronics                 9\n",
       "Movie/TV                         8\n",
       "Personal investment              8\n",
       "Politics                         8\n",
       "Music songs                      7\n",
       "Car                              7\n",
       "Food/Nutrition                   7\n",
       "Philosophy                       6\n",
       "Games                            6\n",
       "Business                         5\n",
       "Gaming                           5\n",
       "Food/Drink                       5\n",
       "Relationship                     5\n",
       "Education/Career planning        5\n",
       "Clothing/Crocheting/Knitting     5\n",
       "Philosophy/Psychology            4\n",
       "Art                              4\n",
       "Education                        4\n",
       "Tech                             4\n",
       "Society/Law                      3\n",
       "Anime                            3\n",
       "Astronomy                        3\n",
       "Beauty                           3\n",
       "Health/Nutrition                 3\n",
       "Health                           3\n",
       "Gifts                            3\n",
       "Environment                      3\n",
       "Movies                           2\n",
       "Parenting                        2\n",
       "Skincare                         2\n",
       "Fintness                         2\n",
       "Pet                              2\n",
       "Writing                          2\n",
       "Psychology                       1\n",
       "Food/Drinks                      1\n",
       "Shopping                         1\n",
       "Petting                          1\n",
       "Clothing/Crocheting/knitting     1\n",
       "Clothing                         1\n",
       "Clothes                          1\n",
       "Math                             1\n",
       "Name: generic_topic, dtype: int64"
      ]
     },
     "execution_count": 38,
     "metadata": {},
     "output_type": "execute_result"
    }
   ],
   "source": [
    "# get topics by domain\n",
    "\n",
    "df_topics.groupby('domain')['generic_topic'].size().sort_values(ascending=False)"
   ]
  },
  {
   "cell_type": "code",
   "execution_count": 42,
   "metadata": {},
   "outputs": [
    {
     "data": {
      "text/html": [
       "<div>\n",
       "<style scoped>\n",
       "    .dataframe tbody tr th:only-of-type {\n",
       "        vertical-align: middle;\n",
       "    }\n",
       "\n",
       "    .dataframe tbody tr th {\n",
       "        vertical-align: top;\n",
       "    }\n",
       "\n",
       "    .dataframe thead th {\n",
       "        text-align: right;\n",
       "    }\n",
       "</style>\n",
       "<table border=\"1\" class=\"dataframe\">\n",
       "  <thead>\n",
       "    <tr style=\"text-align: right;\">\n",
       "      <th></th>\n",
       "      <th>generic_topic</th>\n",
       "      <th>domain</th>\n",
       "    </tr>\n",
       "  </thead>\n",
       "  <tbody>\n",
       "  </tbody>\n",
       "</table>\n",
       "</div>"
      ],
      "text/plain": [
       "Empty DataFrame\n",
       "Columns: [generic_topic, domain]\n",
       "Index: []"
      ]
     },
     "execution_count": 42,
     "metadata": {},
     "output_type": "execute_result"
    }
   ],
   "source": [
    "# check for duplicates\n",
    "df_topics[df_topics.duplicated()]"
   ]
  },
  {
   "cell_type": "code",
   "execution_count": 43,
   "metadata": {},
   "outputs": [
    {
     "data": {
      "text/plain": [
       "generic_topic    0\n",
       "domain           0\n",
       "dtype: int64"
      ]
     },
     "execution_count": 43,
     "metadata": {},
     "output_type": "execute_result"
    }
   ],
   "source": [
    "# check for nan\n",
    "df_topics.isna().sum()"
   ]
  },
  {
   "cell_type": "code",
   "execution_count": 45,
   "metadata": {},
   "outputs": [],
   "source": [
    "# save to json\n",
    "df_topics.to_json('topics.json', orient='records')"
   ]
  },
  {
   "cell_type": "markdown",
   "metadata": {},
   "source": [
    "## Generated personas"
   ]
  },
  {
   "cell_type": "code",
   "execution_count": 4,
   "metadata": {},
   "outputs": [],
   "source": [
    "## get personas from jsonl\n",
    "import pandas as pd\n",
    "filepath=\"generated_personas.jsonl\"\n",
    "\n",
    "personas_df=pd.read_json(filepath, lines=True)"
   ]
  },
  {
   "cell_type": "code",
   "execution_count": 5,
   "metadata": {},
   "outputs": [
    {
     "data": {
      "text/html": [
       "<div>\n",
       "<style scoped>\n",
       "    .dataframe tbody tr th:only-of-type {\n",
       "        vertical-align: middle;\n",
       "    }\n",
       "\n",
       "    .dataframe tbody tr th {\n",
       "        vertical-align: top;\n",
       "    }\n",
       "\n",
       "    .dataframe thead th {\n",
       "        text-align: right;\n",
       "    }\n",
       "</style>\n",
       "<table border=\"1\" class=\"dataframe\">\n",
       "  <thead>\n",
       "    <tr style=\"text-align: right;\">\n",
       "      <th></th>\n",
       "      <th>persona</th>\n",
       "      <th>topics</th>\n",
       "      <th>domain</th>\n",
       "    </tr>\n",
       "  </thead>\n",
       "  <tbody>\n",
       "    <tr>\n",
       "      <th>0</th>\n",
       "      <td>$name$ moves through life with the precision o...</td>\n",
       "      <td>[cleaning carpet, reflooring a room, World War I]</td>\n",
       "      <td>Health/Nutrition</td>\n",
       "    </tr>\n",
       "    <tr>\n",
       "      <th>1</th>\n",
       "      <td>$name$ moves through the world with a curiosit...</td>\n",
       "      <td>[F. Scott Fitzgerald, movie cast members]</td>\n",
       "      <td>Politics</td>\n",
       "    </tr>\n",
       "    <tr>\n",
       "      <th>2</th>\n",
       "      <td>$name$ has always had a precise and analytical...</td>\n",
       "      <td>[Gay Marriage, computers, Skin Cancer]</td>\n",
       "      <td>Finance</td>\n",
       "    </tr>\n",
       "    <tr>\n",
       "      <th>3</th>\n",
       "      <td>$name$ has always found solace in the unexpect...</td>\n",
       "      <td>[Anne Sexton, Mountain Biking, Travel, candy]</td>\n",
       "      <td>Games</td>\n",
       "    </tr>\n",
       "    <tr>\n",
       "      <th>4</th>\n",
       "      <td>$name$ carries the spirit of curiosity and lea...</td>\n",
       "      <td>[Healthy foods]</td>\n",
       "      <td>Education</td>\n",
       "    </tr>\n",
       "    <tr>\n",
       "      <th>...</th>\n",
       "      <td>...</td>\n",
       "      <td>...</td>\n",
       "      <td>...</td>\n",
       "    </tr>\n",
       "    <tr>\n",
       "      <th>788</th>\n",
       "      <td>$name$ has always been one to follow the rhyth...</td>\n",
       "      <td>[Musical trends, Apple Company]</td>\n",
       "      <td>Health/Nutrition</td>\n",
       "    </tr>\n",
       "    <tr>\n",
       "      <th>789</th>\n",
       "      <td>$name$ walks through life with a profound resp...</td>\n",
       "      <td>[landscaping]</td>\n",
       "      <td>Health/Nutrition</td>\n",
       "    </tr>\n",
       "    <tr>\n",
       "      <th>790</th>\n",
       "      <td>$name$ is known in their circle for a unique b...</td>\n",
       "      <td>[earth's moon, Literature, potty training, Pur...</td>\n",
       "      <td>Clothing/Crocheting/knitting</td>\n",
       "    </tr>\n",
       "    <tr>\n",
       "      <th>791</th>\n",
       "      <td>$name$ wakes up to the soft glow of dawn, thei...</td>\n",
       "      <td>[Home education, Stretching, electric cars, Va...</td>\n",
       "      <td>Sports</td>\n",
       "    </tr>\n",
       "    <tr>\n",
       "      <th>792</th>\n",
       "      <td>$name$ moves through life with a brush in one ...</td>\n",
       "      <td>[basketball, Social Democracy]</td>\n",
       "      <td>Art</td>\n",
       "    </tr>\n",
       "  </tbody>\n",
       "</table>\n",
       "<p>793 rows × 3 columns</p>\n",
       "</div>"
      ],
      "text/plain": [
       "                                               persona  \\\n",
       "0    $name$ moves through life with the precision o...   \n",
       "1    $name$ moves through the world with a curiosit...   \n",
       "2    $name$ has always had a precise and analytical...   \n",
       "3    $name$ has always found solace in the unexpect...   \n",
       "4    $name$ carries the spirit of curiosity and lea...   \n",
       "..                                                 ...   \n",
       "788  $name$ has always been one to follow the rhyth...   \n",
       "789  $name$ walks through life with a profound resp...   \n",
       "790  $name$ is known in their circle for a unique b...   \n",
       "791  $name$ wakes up to the soft glow of dawn, thei...   \n",
       "792  $name$ moves through life with a brush in one ...   \n",
       "\n",
       "                                                topics  \\\n",
       "0    [cleaning carpet, reflooring a room, World War I]   \n",
       "1            [F. Scott Fitzgerald, movie cast members]   \n",
       "2               [Gay Marriage, computers, Skin Cancer]   \n",
       "3        [Anne Sexton, Mountain Biking, Travel, candy]   \n",
       "4                                      [Healthy foods]   \n",
       "..                                                 ...   \n",
       "788                    [Musical trends, Apple Company]   \n",
       "789                                      [landscaping]   \n",
       "790  [earth's moon, Literature, potty training, Pur...   \n",
       "791  [Home education, Stretching, electric cars, Va...   \n",
       "792                     [basketball, Social Democracy]   \n",
       "\n",
       "                           domain  \n",
       "0                Health/Nutrition  \n",
       "1                        Politics  \n",
       "2                         Finance  \n",
       "3                           Games  \n",
       "4                       Education  \n",
       "..                            ...  \n",
       "788              Health/Nutrition  \n",
       "789              Health/Nutrition  \n",
       "790  Clothing/Crocheting/knitting  \n",
       "791                        Sports  \n",
       "792                           Art  \n",
       "\n",
       "[793 rows x 3 columns]"
      ]
     },
     "execution_count": 5,
     "metadata": {},
     "output_type": "execute_result"
    }
   ],
   "source": [
    "personas_df"
   ]
  },
  {
   "cell_type": "code",
   "execution_count": 7,
   "metadata": {},
   "outputs": [
    {
     "data": {
      "text/html": [
       "<div>\n",
       "<style scoped>\n",
       "    .dataframe tbody tr th:only-of-type {\n",
       "        vertical-align: middle;\n",
       "    }\n",
       "\n",
       "    .dataframe tbody tr th {\n",
       "        vertical-align: top;\n",
       "    }\n",
       "\n",
       "    .dataframe thead th {\n",
       "        text-align: right;\n",
       "    }\n",
       "</style>\n",
       "<table border=\"1\" class=\"dataframe\">\n",
       "  <thead>\n",
       "    <tr style=\"text-align: right;\">\n",
       "      <th></th>\n",
       "      <th>persona</th>\n",
       "      <th>topics</th>\n",
       "      <th>domain</th>\n",
       "    </tr>\n",
       "  </thead>\n",
       "  <tbody>\n",
       "    <tr>\n",
       "      <th>0</th>\n",
       "      <td>$name$ moves through life with the precision o...</td>\n",
       "      <td>[cleaning carpet, reflooring a room, World War I]</td>\n",
       "      <td>Health/Nutrition</td>\n",
       "    </tr>\n",
       "    <tr>\n",
       "      <th>1</th>\n",
       "      <td>$name$ moves through the world with a curiosit...</td>\n",
       "      <td>[F. Scott Fitzgerald, movie cast members]</td>\n",
       "      <td>Politics</td>\n",
       "    </tr>\n",
       "    <tr>\n",
       "      <th>2</th>\n",
       "      <td>$name$ has always had a precise and analytical...</td>\n",
       "      <td>[Gay Marriage, computers, Skin Cancer]</td>\n",
       "      <td>Finance</td>\n",
       "    </tr>\n",
       "    <tr>\n",
       "      <th>3</th>\n",
       "      <td>$name$ has always found solace in the unexpect...</td>\n",
       "      <td>[Anne Sexton, Mountain Biking, Travel, candy]</td>\n",
       "      <td>Games</td>\n",
       "    </tr>\n",
       "    <tr>\n",
       "      <th>4</th>\n",
       "      <td>$name$ carries the spirit of curiosity and lea...</td>\n",
       "      <td>[Healthy foods]</td>\n",
       "      <td>Education</td>\n",
       "    </tr>\n",
       "  </tbody>\n",
       "</table>\n",
       "</div>"
      ],
      "text/plain": [
       "                                             persona  \\\n",
       "0  $name$ moves through life with the precision o...   \n",
       "1  $name$ moves through the world with a curiosit...   \n",
       "2  $name$ has always had a precise and analytical...   \n",
       "3  $name$ has always found solace in the unexpect...   \n",
       "4  $name$ carries the spirit of curiosity and lea...   \n",
       "\n",
       "                                              topics            domain  \n",
       "0  [cleaning carpet, reflooring a room, World War I]  Health/Nutrition  \n",
       "1          [F. Scott Fitzgerald, movie cast members]          Politics  \n",
       "2             [Gay Marriage, computers, Skin Cancer]           Finance  \n",
       "3      [Anne Sexton, Mountain Biking, Travel, candy]             Games  \n",
       "4                                    [Healthy foods]         Education  "
      ]
     },
     "execution_count": 7,
     "metadata": {},
     "output_type": "execute_result"
    }
   ],
   "source": [
    "personas_df.head()"
   ]
  }
 ],
 "metadata": {
  "kernelspec": {
   "display_name": "base",
   "language": "python",
   "name": "python3"
  },
  "language_info": {
   "codemirror_mode": {
    "name": "ipython",
    "version": 3
   },
   "file_extension": ".py",
   "mimetype": "text/x-python",
   "name": "python",
   "nbconvert_exporter": "python",
   "pygments_lexer": "ipython3",
   "version": "3.11.5"
  }
 },
 "nbformat": 4,
 "nbformat_minor": 2
}
